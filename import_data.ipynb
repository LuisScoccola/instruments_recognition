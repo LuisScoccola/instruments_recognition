{
 "cells": [
  {
   "cell_type": "code",
   "execution_count": 3,
   "metadata": {
    "collapsed": false
   },
   "outputs": [],
   "source": [
    "### IMPORTING DATA\n",
    "\n",
    "import scipy\n",
    "from scipy import signal\n",
    "from scipy.io import wavfile\n",
    "import numpy as np\n",
    "import matplotlib.pyplot as plt\n",
    "import glob\n",
    "\n",
    "\n",
    "# global variables\n",
    "# directory with data\n",
    "datadirectory = \"./flute/philharmonia/\"\n",
    "\n",
    "# maximum of examples\n",
    "max_ex = 4\n",
    "\n",
    "# file names\n",
    "ex_wav = glob.glob(datadirectory + '*.wav')[:max_ex]\n",
    "\n",
    "# TODO: a human-readble version of ex_wav\n",
    "# ex_names = \n",
    "\n",
    "# samplerate of the data\n",
    "samplerate = 44100.\n",
    "# bit depth of the data\n",
    "bitdepth = np.int16\n",
    "#parameter for tukey window\n",
    "alpha_tukey = 0.05\n",
    "\n",
    "\n",
    "# input: a .wav file \n",
    "# output: a vector of integers (one float per sample)\n",
    "def import16monowav(wav_file) :\n",
    "    samplerate, data = wavfile.read(wav_file)\n",
    "    #return np.fromfile(open(wav_file),bitdepth)[24:]\n",
    "    return data\n",
    "\n",
    "# normalize to a float in [-1,1]\n",
    "def normalize16bits(vector) :\n",
    "    return [ sample/2**16. for sample in vector ]\n",
    "\n",
    "\n",
    "\n",
    "def import_convert_transform(ex) :\n",
    "    # import wav and convert to float\n",
    "    ex_float = normalize16bits(import16monowav(ex))\n",
    "    # apply tukey window\n",
    "    ex_windowed = signal.tukey(len(ex_float),alpha=0.05) * ex_float  \n",
    "    # transform to frequency domain (since this is a real signal the transformed vector has half of the length)\n",
    "    ex_transformed_complex = np.fft.rfft(ex_windowed)\n",
    "    # take absolute values\n",
    "    ex_transformed = map(abs,ex_transformed_complex)\n",
    "    # compute frequencies for the xlabel\n",
    "    freq_label = np.fft.rfftfreq(len(ex_float),1/samplerate)\n",
    "    \n",
    "    return ex_float, ex_transformed, freq_label\n",
    "    #freq_label = [ np.arange(len(ex))/(len(ex)*2/samplerate) for ex in ex_transformed ]\n",
    "\n",
    "# more global variables\n",
    "ex_floats, ex_transformed, freq_label = zip(*map(import_convert_transform, ex_wav))\n"
   ]
  },
  {
   "cell_type": "code",
   "execution_count": 41,
   "metadata": {
    "collapsed": false
   },
   "outputs": [],
   "source": [
    "### FINIDING HARMONICS\n",
    "\n",
    "\n",
    "# TODO: this should not be sooo hardcoded\n",
    "peak_width = 40\n",
    "\n",
    "# a quarter of tone\n",
    "qt_tone = 2**(1/24.)\n",
    "\n",
    "\n",
    "# range of harmonics of interest\n",
    "relevant_range_min = 100\n",
    "relevant_range_max = 10000\n",
    "# how many harmonics\n",
    "num_harmonics = 5\n",
    "\n",
    "def harmonics_amplitudes(ex, frq_lbl) :\n",
    "    # find peaks (this is the position in the array)\n",
    "    peaks = signal.find_peaks_cwt(ex, np.arange(peak_width,peak_width+1))\n",
    "    # filter peaks in range and \n",
    "    peaks_in_range = filter(lambda n : frq_lbl[n]>=relevant_range_min and frq_lbl[n]<= relevant_range_max, peaks)\n",
    "    # calculate amplitude of peaks\n",
    "    peaks_amplitude_tmp = [ np.average(ex[int(peak/qt_tone):int(peak*qt_tone)]) for peak in peaks_in_range ]\n",
    "    # find tonic\n",
    "    tonic_pos = np.argmax(peaks_amplitude_tmp)\n",
    "    #take only num_harmonics peaks\n",
    "    peaks_amplitude = peaks_amplitude_tmp[tonic_pos:tonic_pos+num_harmonics]\n",
    "    #the frequency of the peaks\n",
    "    peaks_frequency = [ frq_lbl[n] for n in peaks_in_range[tonic_pos:tonic_pos+num_harmonics] ]\n",
    "    # calculate relative amplitude of peaks\n",
    "    tonic_amplitude = peaks_amplitude[0]\n",
    "    peaks_amplitude_relative = [ harmonic_amplitude/tonic_amplitude for harmonic_amplitude in peaks_amplitude ]\n",
    "    return peaks_frequency, peaks_amplitude_relative\n",
    "\n",
    "def harmonics_energies(ex, frq_lbl) :\n",
    "    # find peaks (this is the position in the array)\n",
    "    peaks = signal.find_peaks_cwt(ex, np.arange(peak_width,peak_width+1))\n",
    "    # filter peaks in range and \n",
    "    peaks_in_range = filter(lambda n : frq_lbl[n]>=relevant_range_min and frq_lbl[n]<= relevant_range_max, peaks)\n",
    "    # decibels are logatithmic, note that we do this after the peak-searching\n",
    "    ex = np.log2(ex)\n",
    "    \n",
    "    # calculate energy of peaks. 2 options for now:\n",
    "    # OPTION1 (average, but we probable should take the log in the x axis into account):\n",
    "    # TODO: give the appropiate weights so this \"integral\" makes sense\n",
    "    peaks_energy_tmp = [ np.average(ex[int(peak/qt_tone):int(peak*qt_tone)]) for peak in peaks_in_range ]\n",
    "    # OPTION2 (just take the pointwise value):\n",
    "    #   peaks_energy_tmp = [ ex[peak] for peak in peaks_in_range ]\n",
    "    \n",
    "    # find tonic\n",
    "    tonic_pos = np.argmax(peaks_energy_tmp)\n",
    "    #take only num_harmonics peaks\n",
    "    peaks_energy = peaks_energy_tmp[tonic_pos:tonic_pos+num_harmonics]\n",
    "    #the frequency of the peaks\n",
    "    peaks_frequency = [ frq_lbl[n] for n in peaks_in_range[tonic_pos:tonic_pos+num_harmonics] ]\n",
    "    # calculate relative energy of peaks\n",
    "    tonic_energy = peaks_energy[0]\n",
    "    peaks_energy_relative = [ harmonic_energy/tonic_energy for harmonic_energy in peaks_energy ]\n",
    "    return peaks_frequency, peaks_energy\n"
   ]
  },
  {
   "cell_type": "code",
   "execution_count": 40,
   "metadata": {
    "collapsed": false
   },
   "outputs": [
    {
     "data": {
      "text/plain": [
       "([844.53125, 1681.25, 2538.28125, 3361.71875, 4221.09375],\n",
       " [1.0,\n",
       "  0.654431454540785,\n",
       "  -0.049296533560873351,\n",
       "  -0.30845604443243008,\n",
       "  -0.65709530873359656])"
      ]
     },
     "execution_count": 40,
     "metadata": {},
     "output_type": "execute_result"
    }
   ],
   "source": [
    "harmonics_energies(ex_transformed[0],freq_label[0])"
   ]
  },
  {
   "cell_type": "code",
   "execution_count": 42,
   "metadata": {
    "collapsed": false
   },
   "outputs": [],
   "source": [
    "### PLOTTING\n",
    "\n",
    "\n",
    "names_and_graphs = zip(ex_wav, ex_transformed, freq_label)\n",
    "\n",
    "def legend_and_show() :\n",
    "    plt.legend(loc='upper right')\n",
    "    plt.show()\n",
    "\n",
    "# plot (1/4 of the) spectrum \n",
    "def plotspec() :\n",
    "    color = iter(plt.cm.rainbow(np.linspace(0,1,max_ex)))\n",
    "    for name, ex, freqs in names_and_graphs :\n",
    "        c = next(color)\n",
    "        howmuch = len(ex)/4\n",
    "        plt.plot(freqs[:howmuch], ex[:howmuch], label=name,c=c)\n",
    "    legend_and_show()\n",
    "    \n",
    "# logarithmic scale for x axis [log(frequency) = note]\n",
    "def plotspec_log() :\n",
    "    color = iter(plt.cm.rainbow(np.linspace(0,1,max_ex)))\n",
    "    for name, ex, freqs in names_and_graphs :\n",
    "        c = next(color)\n",
    "        howmuch = len(ex)/4\n",
    "        plt.plot(np.log2(freqs[:howmuch]), ex[:howmuch], label=name,c=c)\n",
    "    legend_and_show()\n",
    "    \n",
    "\n",
    "# logarithmic scale for both axes [log(frequency) = note, log(amplitude) = volume]\n",
    "def plotspec_loglog() :\n",
    "    color = iter(plt.cm.rainbow(np.linspace(0,1,max_ex)))\n",
    "    for name, ex, freqs in names_and_graphs :\n",
    "        ex = np.log2(ex)\n",
    "        c = next(color)\n",
    "        howmuch = len(ex)/4\n",
    "        plt.plot(np.log2(freqs[:howmuch]), ex[:howmuch], label=name,c=c)\n",
    "    legend_and_show()\n",
    " \n",
    "    \n",
    "def plotspec_normalized() :\n",
    "    color = iter(plt.cm.rainbow(np.linspace(0,1,max_ex)))\n",
    "    for name, ex, freqs in names_and_graphs :\n",
    "        c = next(color)\n",
    "        #normalize\n",
    "        ex /= np.max(np.abs(ex),axis=0)\n",
    "        howmuch = len(ex)/4\n",
    "        plt.plot(freqs[:howmuch], ex[:howmuch], label=name,c=c)\n",
    "    legend_and_show()\n",
    "\n",
    "def plotspec_and_harmonics() :\n",
    "    color = iter(plt.cm.rainbow(np.linspace(0,1,max_ex)))\n",
    "    for name, ex, freqs in names_and_graphs :\n",
    "        c = next(color)\n",
    "        #normalize\n",
    "        ex /= np.max(np.abs(ex),axis=0)\n",
    "        howmuch = len(ex)/4\n",
    "        plt.plot(freqs[:howmuch], ex[:howmuch], label=name,c=c)\n",
    "        x, y = harmonics_energies(ex, freqs)\n",
    "        plt.scatter(x, y, label=name,c=c)\n",
    "    legend_and_show()\n",
    "    \n",
    "# no color version\n",
    "def plotharmonics_nc() :\n",
    "#    color = iter(plt.cm.rainbow(np.linspace(0,1,max_ex)))\n",
    "    for name, ex, freqs in names_and_graphs :\n",
    "#        c = next(color)\n",
    "        x, y = harmonics_energies(ex, freqs)\n",
    "        xx = range(len(y))\n",
    "        plt.scatter(xx, y,label=name)\n",
    "#        plt.scatter(xx, y,label=name,c=c)\n",
    "    legend_and_show()\n",
    "    \n",
    "def plotharmonics() :\n",
    "    color = iter(plt.cm.rainbow(np.linspace(0,1,max_ex)))\n",
    "    for name, ex, freqs in names_and_graphs :\n",
    "        c = next(color)\n",
    "        x, y = harmonics_energies(ex, freqs)\n",
    "        xx = range(len(y))\n",
    "        plt.scatter(xx, y,label=name,c=c)\n",
    "    legend_and_show()\n",
    "    \n",
    "#def plotharmonics_exp() :\n",
    "#    color = iter(plt.cm.rainbow(np.linspace(0,1,max_ex)))\n",
    "#    for name, ex, freqs in names_and_graphs :\n",
    "#        c = next(color)\n",
    "#        x, y = harmonics_energies(ex, freqs)\n",
    "#        yy = [ np.e**yi for yi in y ]\n",
    "#        xx = range(len(y))\n",
    "#        plt.scatter(xx, yy, label=name,c=c)\n",
    "#    legend_and_show()\n",
    "#\n",
    "## no color version\n",
    "#def plotharmonics_exp_nc() :\n",
    "#    for name, ex, freqs in names_and_graphs :\n",
    "#        x, y = harmonics_energies(ex, freqs)\n",
    "#        yy = [ np.e**yi for yi in y ]\n",
    "#        xx = range(len(y))\n",
    "#        plt.scatter(xx, yy, label=name)\n",
    "#    legend_and_show()\n",
    "\n",
    "def plotharmonics2() :\n",
    "    color = iter(plt.cm.rainbow(np.linspace(0,1,max_ex)))\n",
    "    for name, ex, freqs in names_and_graphs :\n",
    "        c = next(color)\n",
    "        x, y = harmonics_energies(ex, freqs)\n",
    "        plt.plot(y,label=name,c=c)\n",
    "    legend_and_show()"
   ]
  },
  {
   "cell_type": "code",
   "execution_count": null,
   "metadata": {
    "collapsed": false
   },
   "outputs": [],
   "source": [
    "plotspec_and_harmonics()"
   ]
  },
  {
   "cell_type": "code",
   "execution_count": 160,
   "metadata": {
    "collapsed": false
   },
   "outputs": [
    {
     "data": {
      "text/plain": [
       "['./flute/philharmonia/flute_Gs5_15_forte_normal.wav',\n",
       " './flute/philharmonia/flute_D4_15_mezzo-piano_normal.wav',\n",
       " './flute/philharmonia/flute_D5_05_pianissimo_normal.wav',\n",
       " './flute/philharmonia/flute_F6_025_forte_normal.wav',\n",
       " './flute/philharmonia/flute_Ds7_025_piano_normal.wav',\n",
       " './flute/philharmonia/flute_Fs5_1_mezzo-piano_normal.wav',\n",
       " './flute/philharmonia/flute_A4_very-long_cresc-decresc_normal.wav']"
      ]
     },
     "execution_count": 160,
     "metadata": {},
     "output_type": "execute_result"
    }
   ],
   "source": [
    "ex_wav"
   ]
  },
  {
   "cell_type": "code",
   "execution_count": null,
   "metadata": {
    "collapsed": false
   },
   "outputs": [],
   "source": [
    "error_threshold = \n",
    "\n",
    "def gate(signal) :\n",
    "    \n",
    "\n",
    "\n",
    "plt.plot(ex_floats[0])\n",
    "\n",
    "plt.show()"
   ]
  },
  {
   "cell_type": "code",
   "execution_count": 43,
   "metadata": {
    "collapsed": false,
    "scrolled": true
   },
   "outputs": [],
   "source": [
    "#plt.plot(ex_windowed[0])\n",
    "#plt.show()\n",
    "\n",
    "#ex_windowed[0][len(ex_windowed[0])-200000:len(ex_windowed[0])]\n",
    "\n",
    "\n",
    "#f, t, Sxx = signal.spectrogram(ex_floats[0], fs=samplerate, window=('tukey', 0.25))\n",
    "\n",
    "#plt.pcolormesh(t, f, Sxx)\n",
    "#plt.ylabel('Frequency [Hz]')\n",
    "#plt.xlabel('Time [sec]')\n",
    "#plt.show()\n",
    "\n",
    "#plt.plot(spectro)\n",
    "#plt.show()\n"
   ]
  },
  {
   "cell_type": "code",
   "execution_count": null,
   "metadata": {
    "collapsed": true
   },
   "outputs": [],
   "source": [
    "#smooth vector, but the peak finder already does this\n",
    "\n",
    "def smooth(y, box_pts):\n",
    "    box = np.ones(box_pts)/box_pts\n",
    "    y_smooth = np.convolve(y, box, mode='same')\n",
    "    return y_smooth\n",
    "\n",
    "average_factor = 30\n",
    "\n",
    "ex_smoothened = [ smooth(ex, average_factor) for ex in ex_transformed ]\n"
   ]
  }
 ],
 "metadata": {
  "kernelspec": {
   "display_name": "Python 2",
   "language": "python2",
   "name": "python2"
  },
  "language_info": {
   "codemirror_mode": {
    "name": "ipython",
    "version": 2
   },
   "file_extension": ".py",
   "mimetype": "text/x-python",
   "name": "python",
   "nbconvert_exporter": "python",
   "pygments_lexer": "ipython2",
   "version": "2.7.12"
  }
 },
 "nbformat": 4,
 "nbformat_minor": 0
}
