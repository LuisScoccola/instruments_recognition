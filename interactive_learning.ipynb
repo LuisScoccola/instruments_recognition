{
 "cells": [
  {
   "cell_type": "code",
   "execution_count": 140,
   "metadata": {
    "collapsed": false
   },
   "outputs": [
    {
     "name": "stdout",
     "output_type": "stream",
     "text": [
      "Populating the interactive namespace from numpy and matplotlib\n"
     ]
    },
    {
     "name": "stderr",
     "output_type": "stream",
     "text": [
      "/usr/lib/python3.5/site-packages/IPython/core/magics/pylab.py:161: UserWarning: pylab import has clobbered these variables: ['clf']\n",
      "`%matplotlib` prevents importing * from pylab and numpy\n",
      "  \"\\n`%matplotlib` prevents importing * from pylab and numpy\"\n"
     ]
    }
   ],
   "source": [
    "from instruments_recognition.importing_data import *\n",
    "from instruments_recognition.plotting import *\n",
    "#import pymir.AudioFile\n",
    "\n",
    "%pylab inline"
   ]
  },
  {
   "cell_type": "code",
   "execution_count": 192,
   "metadata": {
    "collapsed": false
   },
   "outputs": [],
   "source": [
    "### Import transformed data (features) from file\n",
    "\n",
    "instrument1 = \"banjo\"\n",
    "instrument2 = \"viola\"\n",
    "\n",
    "\n",
    "energylbl1af = open('transformed_data/' + instrument1 + '_energylbla', 'rb')\n",
    "energylbl1rf = open('transformed_data/' + instrument1 + '_energylblr', 'rb')\n",
    "energylbl2af = open('transformed_data/' + instrument2 + '_energylbla', 'rb')\n",
    "energylbl2rf = open('transformed_data/' + instrument2 + '_energylblr', 'rb')\n",
    "\n",
    "energylbl1a_withmore = np.load(energylbl1af)\n",
    "energylbl1r_withmore = np.load(energylbl1rf)\n",
    "energylbl2a_withmore = np.load(energylbl2af)\n",
    "energylbl2r_withmore = np.load(energylbl2rf)\n",
    "\n",
    "#print(energylbl1a_withmore[0])"
   ]
  },
  {
   "cell_type": "code",
   "execution_count": 210,
   "metadata": {
    "collapsed": false
   },
   "outputs": [
    {
     "name": "stdout",
     "output_type": "stream",
     "text": [
      "8 harmonics avaiable\n"
     ]
    }
   ],
   "source": [
    "### LEARN 1\n",
    "\n",
    "\n",
    "howmanyharmonics = 5\n",
    "\n",
    "# forget the frequencies\n",
    "# and forget the first volume which is always 1\n",
    "def only_volumes(energylbl) :\n",
    "    return list(map(lambda l : l[1][1:howmanyharmonics+1], energylbl))\n",
    "\n",
    "# take only non nan from a list\n",
    "def cleannan(l):\n",
    "    return [x for x in l if not isnan(x)]\n",
    "\n",
    "# input: list of lists\n",
    "# output: only lists that do not contain any nans\n",
    "def cleannan2(l):\n",
    "    return [x for x in l if np.isfinite(x).all()]\n",
    "\n",
    "\n",
    "energylbl1a = only_volumes(energylbl1a_withmore)\n",
    "energylbl1r = only_volumes(energylbl1r_withmore)\n",
    "energylbl2a = only_volumes(energylbl2a_withmore)\n",
    "energylbl2r = only_volumes(energylbl2r_withmore)\n",
    "\n",
    "# how many harmonics do we have\n",
    "print(str(len(energylbl1a_withmore[1][1][1:])) + \" harmonics avaiable\")\n",
    "\n",
    "# we use attack and release and the difference of volume between the two\n",
    "#energylbl1 = [ (l1 + l2 + v) for l1, l2, v in zip(energylbl1a,energylbl1r,vd1)]\n",
    "#energylbl2 = [ (l1 + l2 + v) for l1, l2, v in zip(energylbl2a,energylbl2r,vd2)]\n",
    "\n",
    "# but in the attack we sometimes fail to recognize the tonic (it is mainly confused with the octave)\n",
    "# so we can use the release and the difference of volume between attack and release\n",
    "#energylbl1 = [ (l1 + v) for l1, l2, v in zip(energylbl1a,energylbl1r,vd1)]\n",
    "#energylbl2 = [ (l1 + v) for l1, l2, v in zip(energylbl2a,energylbl2r,vd2)]\n",
    "\n",
    "# *but* it seems to work better with just l2\n",
    "energylbl1 = energylbl1r\n",
    "energylbl2 = energylbl2r\n",
    "\n",
    "\n",
    "volumes1 = cleannan2(energylbl1)\n",
    "volumes2 = cleannan2(energylbl2)\n",
    "#shuffle the input so we train on a random set of the input (the shuffle is done in place )\n",
    "random.seed(1)\n",
    "random.shuffle(volumes1)\n",
    "random.shuffle(volumes2)\n",
    "\n",
    "\n",
    "\n",
    "\n",
    "#nthvolume = [ map(lambda l : l[n], only_volumes) for n in range(0,num_harmonics) ]\n",
    "#\n",
    "#nthvolumecleaned = map(cleannan, nthvolume)\n",
    "#\n",
    "#averages = map(average, nthvolumecleaned)\n",
    "#\n",
    "#minusaverages = [ map(lambda m : m-averages[n], nthvolumecleaned[n]) for n in range(0,num_harmonics) ]\n",
    "#\n",
    "#variances = map(rms, minusaverages)\n",
    "#\n",
    "#variances, averages\n",
    "\n",
    "#print(vd1[2])"
   ]
  },
  {
   "cell_type": "code",
   "execution_count": 211,
   "metadata": {
    "collapsed": false
   },
   "outputs": [
    {
     "name": "stdout",
     "output_type": "stream",
     "text": [
      "doing data snooping? False\n"
     ]
    }
   ],
   "source": [
    "### LEARN 2\n",
    "\n",
    "from sklearn import neighbors, svm\n",
    "\n",
    "#fractiontrain = 9./10.\n",
    "fractiontrain = 5./6.\n",
    "#fractiontrain = 4./5.\n",
    "#fractiontrain = 1./100.\n",
    "\n",
    "#training examples\n",
    "trainvolumes1 = volumes1[:int(len(volumes1)*fractiontrain)]\n",
    "trainvolumes2 = volumes2[:int(len(volumes2)*fractiontrain)]\n",
    "\n",
    "howmanytrain1 = len(trainvolumes1)\n",
    "howmanytrain2 = len(trainvolumes2)\n",
    "howmanytrain = howmanytrain1 + howmanytrain2\n",
    "\n",
    "#testing examples\n",
    "testvolumes1 = volumes1[int(len(volumes1)*fractiontrain):len(volumes1)]\n",
    "testvolumes2 = volumes2[int(len(volumes2)*fractiontrain):len(volumes2)]\n",
    "\n",
    "howmanytest1 = len(testvolumes1)\n",
    "howmanytest2 = len(testvolumes2)\n",
    "\n",
    "\n",
    "training_ex = trainvolumes1 + trainvolumes2\n",
    "labels = [ 1 for i in range(0,howmanytrain1) ] + [ 0 for i in range(0,howmanytrain2) ]\n",
    "\n",
    "\n",
    "#########################\n",
    "\n",
    "## assert: there are no testing samples in the training set\n",
    "\n",
    "def is_in(e,l):\n",
    "    res = False\n",
    "    for v in l:\n",
    "        if all([f1 == f2 for f1, f2 in zip(e,v)]) :\n",
    "            res = True\n",
    "    return res\n",
    "            \n",
    "#testing: is_in([1.],[[0.],[0.,4,3],[1.]])\n",
    "    \n",
    "alltests = testvolumes1 + testvolumes2\n",
    "\n",
    "datasnooping = any([ is_in(test, training_ex) for test in alltests ])\n",
    "if datasnooping :\n",
    "    print(\"WARNING: you are testing on the training set\")\n",
    "print(\"doing data snooping? \" + str(datasnooping))"
   ]
  },
  {
   "cell_type": "code",
   "execution_count": 212,
   "metadata": {
    "collapsed": false
   },
   "outputs": [
    {
     "data": {
      "text/plain": [
       "KNeighborsClassifier(algorithm='auto', leaf_size=30, metric='minkowski',\n",
       "           metric_params=None, n_jobs=1, n_neighbors=5, p=2,\n",
       "           weights='uniform')"
      ]
     },
     "execution_count": 212,
     "metadata": {},
     "output_type": "execute_result"
    }
   ],
   "source": [
    "### Learning algorithm\n",
    "\n",
    "## SVN does not seem to work\n",
    "#clf = svm.SVC(kernel='linear')\n",
    "#clf.fit(training_ex, labels) \n",
    "\n",
    "\n",
    "# nearest neighboor\n",
    "n_neighbors = 5\n",
    "clf = neighbors.KNeighborsClassifier(n_neighbors)\n",
    "clf.fit(training_ex, labels) "
   ]
  },
  {
   "cell_type": "code",
   "execution_count": 213,
   "metadata": {
    "collapsed": false
   },
   "outputs": [
    {
     "name": "stdout",
     "output_type": "stream",
     "text": [
      "training with: 682\n",
      "testing with: 138\n",
      "error: 0.0942028985507\n"
     ]
    }
   ],
   "source": [
    "### COMPUTING ERROR\n",
    "\n",
    "print(\"training with: \" + str(howmanytrain))\n",
    "print(\"testing with: \" + str(howmanytest1 + howmanytest2))\n",
    "\n",
    "goods1 = list(clf.predict(testvolumes1))\n",
    "goods2 = [ 1-x for x in clf.predict(testvolumes2) ]\n",
    "\n",
    "error = 1. - np.average(goods1+goods2)\n",
    "\n",
    "print(\"error: \" + str(error))\n"
   ]
  },
  {
   "cell_type": "code",
   "execution_count": null,
   "metadata": {
    "collapsed": true
   },
   "outputs": [],
   "source": []
  },
  {
   "cell_type": "code",
   "execution_count": null,
   "metadata": {
    "collapsed": true
   },
   "outputs": [],
   "source": []
  }
 ],
 "metadata": {
  "kernelspec": {
   "display_name": "Python 3",
   "language": "python",
   "name": "python3"
  },
  "language_info": {
   "codemirror_mode": {
    "name": "ipython",
    "version": 3
   },
   "file_extension": ".py",
   "mimetype": "text/x-python",
   "name": "python",
   "nbconvert_exporter": "python",
   "pygments_lexer": "ipython3",
   "version": "3.5.2"
  }
 },
 "nbformat": 4,
 "nbformat_minor": 0
}
