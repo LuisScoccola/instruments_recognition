{
 "cells": [
  {
   "cell_type": "code",
   "execution_count": 13,
   "metadata": {
    "collapsed": false
   },
   "outputs": [
    {
     "name": "stdout",
     "output_type": "stream",
     "text": [
      "Populating the interactive namespace from numpy and matplotlib\n"
     ]
    }
   ],
   "source": [
    "from instruments_recognition.importing_data import *\n",
    "from instruments_recognition.plotting import *\n",
    "#import pymir.AudioFile\n",
    "\n",
    "%pylab inline"
   ]
  },
  {
   "cell_type": "code",
   "execution_count": 14,
   "metadata": {
    "collapsed": false
   },
   "outputs": [],
   "source": [
    "### Import transformed data (features) from file\n",
    "\n",
    "energylbl1af = open('transformed_data/energylbl1a', 'rb')\n",
    "energylbl1rf = open('transformed_data/energylbl1r', 'rb')\n",
    "energylbl2af = open('transformed_data/energylbl2a', 'rb')\n",
    "energylbl2rf = open('transformed_data/energylbl2r', 'rb')\n",
    "\n",
    "energylbl1a_withmore = np.load(energylbl1af)\n",
    "energylbl1r_withmore = np.load(energylbl1rf)\n",
    "energylbl2a_withmore = np.load(energylbl2af)\n",
    "energylbl2r_withmore = np.load(energylbl2rf)\n",
    "\n",
    "#print(energylbl1a_withmore[0])"
   ]
  },
  {
   "cell_type": "code",
   "execution_count": 15,
   "metadata": {
    "collapsed": false
   },
   "outputs": [],
   "source": [
    "### LEARN 1\n",
    "\n",
    "\n",
    "howmanyharmonics = 7\n",
    "\n",
    "# forget the frequencies\n",
    "# and forget the first volume which is always 1\n",
    "def only_volumes(energylbl) :\n",
    "    return list(map(lambda l : l[1][1:howmanyharmonics+1], energylbl))\n",
    "\n",
    "# take only non nan from a list\n",
    "def cleannan(l):\n",
    "    return [x for x in l if not isnan(x)]\n",
    "\n",
    "# input: list of lists\n",
    "# output: only lists that do not contain any nans\n",
    "def cleannan2(l):\n",
    "    return [x for x in l if np.isfinite(x).all()]\n",
    "\n",
    "\n",
    "energylbl1a = only_volumes(energylbl1a_withmore)\n",
    "energylbl1r = only_volumes(energylbl1r_withmore)\n",
    "energylbl2a = only_volumes(energylbl2a_withmore)\n",
    "energylbl2r = only_volumes(energylbl2r_withmore)\n",
    "\n",
    "\n",
    "# we can put l1 and l2, or just l2.\n",
    "#energylbl1 = [ (l1 + l2) for l1, l2, v in zip(energylbl1a,energylbl1r,vd1)]\n",
    "#energylbl2 = [ (l1 + l2) for l1, l2, v in zip(energylbl2a,energylbl2r,vd2)]\n",
    "# it seems to work better with just l2\n",
    "energylbl1 = energylbl1r\n",
    "energylbl2 = energylbl2r\n",
    "\n",
    "\n",
    "volumes1 = cleannan2(energylbl1)\n",
    "volumes2 = cleannan2(energylbl2)\n",
    "#shuffle the inputs (this is in place )\n",
    "random.seed(5)\n",
    "random.shuffle(volumes1)\n",
    "random.shuffle(volumes2)\n",
    "\n",
    "\n",
    "#nthvolume = [ map(lambda l : l[n], only_volumes) for n in range(0,num_harmonics) ]\n",
    "#\n",
    "#nthvolumecleaned = map(cleannan, nthvolume)\n",
    "#\n",
    "#averages = map(average, nthvolumecleaned)\n",
    "#\n",
    "#minusaverages = [ map(lambda m : m-averages[n], nthvolumecleaned[n]) for n in range(0,num_harmonics) ]\n",
    "#\n",
    "#variances = map(rms, minusaverages)\n",
    "#\n",
    "#variances, averages\n",
    "\n",
    "#print(vd1[2])"
   ]
  },
  {
   "cell_type": "code",
   "execution_count": 16,
   "metadata": {
    "collapsed": false
   },
   "outputs": [
    {
     "name": "stdout",
     "output_type": "stream",
     "text": [
      "doing data snooping? False\n"
     ]
    }
   ],
   "source": [
    "### LEARN 2\n",
    "\n",
    "from sklearn import neighbors, svm\n",
    "\n",
    "#fractiontrain = 9./10.\n",
    "fractiontrain = 5./6.\n",
    "#fractiontrain = 4./5.\n",
    "#fractiontrain = 1./100.\n",
    "\n",
    "#training examples\n",
    "trainvolumes1 = volumes1[:int(len(volumes1)*fractiontrain)]\n",
    "trainvolumes2 = volumes2[:int(len(volumes2)*fractiontrain)]\n",
    "\n",
    "howmanytrain1 = len(trainvolumes1)\n",
    "howmanytrain2 = len(trainvolumes2)\n",
    "howmanytrain = howmanytrain1 + howmanytrain2\n",
    "\n",
    "#testing examples\n",
    "testvolumes1 = volumes1[int(len(volumes1)*fractiontrain):len(volumes1)]\n",
    "testvolumes2 = volumes2[int(len(volumes2)*fractiontrain):len(volumes2)]\n",
    "\n",
    "howmanytest1 = len(testvolumes1)\n",
    "howmanytest2 = len(testvolumes2)\n",
    "\n",
    "\n",
    "training_ex = trainvolumes1 + trainvolumes2\n",
    "labels = [ 1 for i in range(0,howmanytrain1) ] + [ 0 for i in range(0,howmanytrain2) ]\n",
    "\n",
    "\n",
    "#########################\n",
    "\n",
    "## assert: there are no testing samples in the training set\n",
    "\n",
    "def is_in(e,l):\n",
    "    res = False\n",
    "    for v in l:\n",
    "        if all([f1 == f2 for f1, f2 in zip(e,v)]) :\n",
    "            res = True\n",
    "    return res\n",
    "            \n",
    "#testing: is_in([1.],[[0.],[0.,4,3],[1.]])\n",
    "    \n",
    "alltests = testvolumes1 + testvolumes2\n",
    "\n",
    "datasnooping = any([ is_in(test, training_ex) for test in alltests ])\n",
    "if datasnooping :\n",
    "    print(\"WARNING: you are testing on the training set\")\n",
    "print(\"doing data snooping? \" + str(datasnooping))"
   ]
  },
  {
   "cell_type": "code",
   "execution_count": 17,
   "metadata": {
    "collapsed": false
   },
   "outputs": [
    {
     "data": {
      "text/plain": [
       "KNeighborsClassifier(algorithm='auto', leaf_size=30, metric='minkowski',\n",
       "           metric_params=None, n_jobs=1, n_neighbors=5, p=2,\n",
       "           weights='uniform')"
      ]
     },
     "execution_count": 17,
     "metadata": {},
     "output_type": "execute_result"
    }
   ],
   "source": [
    "### Learning algorithm\n",
    "\n",
    "## SVN does not seem to work\n",
    "#clf = svm.SVC(kernel='linear')\n",
    "#clf.fit(training_ex, labels) \n",
    "\n",
    "\n",
    "# nearest neighboor\n",
    "n_neighbors = 5\n",
    "clf = neighbors.KNeighborsClassifier(n_neighbors)\n",
    "clf.fit(training_ex, labels) "
   ]
  },
  {
   "cell_type": "code",
   "execution_count": 18,
   "metadata": {
    "collapsed": false
   },
   "outputs": [
    {
     "name": "stdout",
     "output_type": "stream",
     "text": [
      "training with: 1021\n",
      "testing with: 206\n",
      "error: 0.18932038835\n"
     ]
    }
   ],
   "source": [
    "### COMPUTING ERROR\n",
    "\n",
    "print(\"training with: \" + str(howmanytrain))\n",
    "print(\"testing with: \" + str(howmanytest1 + howmanytest2))\n",
    "\n",
    "goods1 = list(clf.predict(testvolumes1))\n",
    "goods2 = [ 1-x for x in clf.predict(testvolumes2) ]\n",
    "\n",
    "error = 1. - np.average(goods1+goods2)\n",
    "\n",
    "print(\"error: \" + str(error))\n"
   ]
  },
  {
   "cell_type": "code",
   "execution_count": 10,
   "metadata": {
    "collapsed": false
   },
   "outputs": [
    {
     "name": "stderr",
     "output_type": "stream",
     "text": [
      "/home/lui/coding/ml/instruments/instruments_recognition/importing_data.py:188: RuntimeWarning: invalid value encountered in double_scalars\n",
      "  # the total spectrum has len(ex) samples and the spectrum has 44100/2 frequencies\n"
     ]
    }
   ],
   "source": [
    "### IMPORT AND TRANSFORM DATA (this takes a while, you can import only the transfromed data above)\n",
    "\n",
    "datadirectory1 = \"./samples/flute/philharmonia/\"\n",
    "datadirectory2 = \"./samples/oboe/philharmonia/\"\n",
    "\n",
    "howmanyexamples = 50\n",
    "\n",
    "channels = 1\n",
    "\n",
    "ex_wav1 = glob.glob(datadirectory1 + '*.wav')[:howmanyexamples]\n",
    "ex_wav2 = glob.glob(datadirectory2 + '*.wav')[:howmanyexamples]\n",
    "\n",
    "#ex_transformed1, freq_label1 = zip(*map(import_convert_transform, ex_wav1))\n",
    "#ex_transformed2, freq_label2 = zip(*map(import_convert_transform, ex_wav2))\n",
    "\n",
    "# zip(ex_transformed1, freq_label1)\n",
    "# zip(ex_transformed2, freq_label2)\n",
    "\n",
    "trandlbl1ar, vd1 = list(zip(*map(lambda e: import_convert_transform2(e,channels), ex_wav1)))\n",
    "trandlbl2ar, vd2 = list(zip(*map(lambda e: import_convert_transform2(e,channels), ex_wav2)))\n",
    "\n",
    "trandlbl1a, trandlbl1r = list(zip(*trandlbl1ar))\n",
    "trandlbl2a, trandlbl2r = list(zip(*trandlbl2ar))\n",
    "\n",
    "\n",
    "### LEARN 2\n",
    "\n",
    "#print(trandlbl1a[0])\n",
    "\n",
    "\n",
    "\n",
    "energylbl1a_withmore = [ harmonics_energy(ex_tr, freq_lbl) for ex_tr, freq_lbl in trandlbl1a ]\n",
    "energylbl2a_withmore = [ harmonics_energy(ex_tr, freq_lbl) for ex_tr, freq_lbl in trandlbl2a ]\n",
    "\n",
    "energylbl1r_withmore = [ harmonics_energy(ex_tr, freq_lbl) for ex_tr, freq_lbl in trandlbl1r ]\n",
    "energylbl2r_withmore = [ harmonics_energy(ex_tr, freq_lbl) for ex_tr, freq_lbl in trandlbl2r ]\n",
    "\n",
    "\n",
    "#### make a copy since we will shuffle the inputs and the shuffling works in place!\n",
    "#energylbl1a_withmore = copy.deepcopy(energylbl1a_withmore_)\n",
    "#energylbl2a_withmore = copy.deepcopy(energylbl2a_withmore_)\n",
    "#energylbl1r_withmore = copy.deepcopy(energylbl1r_withmore_)\n",
    "#energylbl2r_withmore = copy.deepcopy(energylbl2r_withmore_)\n"
   ]
  },
  {
   "cell_type": "code",
   "execution_count": 40,
   "metadata": {
    "collapsed": false
   },
   "outputs": [],
   "source": [
    "### Optional: save transformed data to disk\n",
    "\n",
    "energylbl1af = open('transformed_data/energylbl1a', 'wb')\n",
    "energylbl1rf = open('transformed_data/energylbl1r', 'wb')\n",
    "energylbl2af = open('transformed_data/energylbl2a', 'wb')\n",
    "energylbl2rf = open('transformed_data/energylbl2r', 'wb')\n",
    "\n",
    "np.save(energylbl1af, energylbl1a_withmore)\n",
    "np.save(energylbl1rf, energylbl1r_withmore)\n",
    "np.save(energylbl2af, energylbl2a_withmore)\n",
    "np.save(energylbl2rf, energylbl2r_withmore)\n",
    "\n",
    "#print(energylbl1a_withmore[0])\n",
    "\n",
    "energylbl1af.close()\n",
    "energylbl1rf.close()\n",
    "energylbl2af.close()\n",
    "energylbl2rf.close()\n",
    "\n",
    "#energylbl1af = open('transformed_data/energylbl1a', 'rb')\n",
    "#\n",
    "#energylbl1a_withmore = np.load(energylbl1af)\n",
    "#\n",
    "#print(energylbl1a_withmore[0])"
   ]
  },
  {
   "cell_type": "code",
   "execution_count": 608,
   "metadata": {
    "collapsed": false,
    "scrolled": true
   },
   "outputs": [],
   "source": [
    "\n",
    "def only_volumes1(energylbl) :\n",
    "    return list(map(lambda l : l[1][1:], energylbl))\n",
    "\n",
    "#only_volumes(energylbl1)"
   ]
  },
  {
   "cell_type": "code",
   "execution_count": 370,
   "metadata": {
    "collapsed": false
   },
   "outputs": [
    {
     "data": {
      "text/plain": [
       "{1}"
      ]
     },
     "execution_count": 370,
     "metadata": {},
     "output_type": "execute_result"
    }
   ],
   "source": [
    "set([1,2]).intersection(set([1]))"
   ]
  },
  {
   "cell_type": "code",
   "execution_count": 467,
   "metadata": {
    "collapsed": false
   },
   "outputs": [
    {
     "data": {
      "text/plain": [
       "[4, 6, 5, 2, 1, 3]"
      ]
     },
     "execution_count": 467,
     "metadata": {},
     "output_type": "execute_result"
    }
   ],
   "source": [
    "a = [1,2,3,4,5,6]\n",
    "np.random.seed(3)\n",
    "np.random.shuffle(a)\n",
    "a"
   ]
  },
  {
   "cell_type": "code",
   "execution_count": 9,
   "metadata": {
    "collapsed": false
   },
   "outputs": [],
   "source": [
    "a = [1,2]\n",
    "b = copy.copy(a)"
   ]
  },
  {
   "cell_type": "code",
   "execution_count": null,
   "metadata": {
    "collapsed": true
   },
   "outputs": [],
   "source": []
  }
 ],
 "metadata": {
  "kernelspec": {
   "display_name": "Python 3",
   "language": "python",
   "name": "python3"
  },
  "language_info": {
   "codemirror_mode": {
    "name": "ipython",
    "version": 3
   },
   "file_extension": ".py",
   "mimetype": "text/x-python",
   "name": "python",
   "nbconvert_exporter": "python",
   "pygments_lexer": "ipython3",
   "version": "3.5.2"
  }
 },
 "nbformat": 4,
 "nbformat_minor": 0
}
