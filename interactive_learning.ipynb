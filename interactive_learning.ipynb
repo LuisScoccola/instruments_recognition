{
 "cells": [
  {
   "cell_type": "code",
   "execution_count": 2,
   "metadata": {
    "collapsed": false
   },
   "outputs": [],
   "source": [
    "from instruments_recognition.importing_data import *\n",
    "from instruments_recognition.plotting import *\n",
    "\n",
    "import random"
   ]
  },
  {
   "cell_type": "code",
   "execution_count": 10,
   "metadata": {
    "collapsed": false
   },
   "outputs": [],
   "source": [
    "### Import transformed data (features) from file\n",
    "\n",
    "instrument1 = \"flute\"\n",
    "instrument2 = \"oboe\"\n",
    "\n",
    "\n",
    "energylbl1af = open('transformed_data/' + instrument1 + '_energylbla_experiment', 'rb')\n",
    "energylbl1rf = open('transformed_data/' + instrument1 + '_energylblr_experiment', 'rb')\n",
    "energylbl2af = open('transformed_data/' + instrument2 + '_energylbla_experiment', 'rb')\n",
    "energylbl2rf = open('transformed_data/' + instrument2 + '_energylblr_experiment', 'rb')\n",
    "\n",
    "energylbl1a_withmore = np.load(energylbl1af)\n",
    "energylbl1r_withmore = np.load(energylbl1rf)\n",
    "energylbl2a_withmore = np.load(energylbl2af)\n",
    "energylbl2r_withmore = np.load(energylbl2rf)\n",
    "\n",
    "#print(energylbl1a_withmore[0])\n"
   ]
  },
  {
   "cell_type": "code",
   "execution_count": 13,
   "metadata": {
    "collapsed": false
   },
   "outputs": [
    {
     "name": "stdout",
     "output_type": "stream",
     "text": [
      "[1, 2, 3, 5, 6, 7]\n"
     ]
    }
   ],
   "source": [
    "a = [1,2,3]\n",
    "\n",
    "a.extend([5,6,7])\n",
    "\n",
    "print(a)"
   ]
  },
  {
   "cell_type": "code",
   "execution_count": 23,
   "metadata": {
    "collapsed": false
   },
   "outputs": [
    {
     "name": "stdout",
     "output_type": "stream",
     "text": [
      "hola [1, 2, 3, 4, 5, 6]\n",
      "None\n"
     ]
    }
   ],
   "source": [
    "### NEW Import transformed data (features) from file\n",
    "\n",
    "instrument1 = \"flute\"\n",
    "instrument2 = \"oboe\"\n",
    "\n",
    "energies1f = open('transformed_data/' + instrument1 + '_multiwindow_volumes', 'rb')\n",
    "energies2f = open('transformed_data/' + instrument2 + '_multiwindow_volumes', 'rb')\n",
    "\n",
    "energies1_withmore = np.load(energies1f)\n",
    "energies2_withmore = np.load(energies2f)\n",
    "\n",
    "\n",
    "### LEARN 1\n",
    "\n",
    "\n",
    "howmanyharmonics = 4\n",
    "\n",
    "# forget the frequencies\n",
    "# and forget the first volume which is always 1\n",
    "def only_volumes2(energies) :\n",
    "    return [ [ l[1:howmanyharmonics+1] for l in energiess ] for energiess in energies ]\n",
    "\n",
    "# input: list of lists\n",
    "# output: only lists that do not contain any nans\n",
    "def cleannan2(l):\n",
    "    return [x for x in l if np.isfinite(x).all()]\n",
    "\n",
    "\n",
    "def flatten(l) :\n",
    "    res = []\n",
    "    list(map(res.extend, l))\n",
    "    return res\n",
    "\n",
    "print(\"hola \" + str(flatten([[1,2,3],[4,5,6]])))\n",
    "print([1,2,3].extend([4,5,6]))\n",
    "\n",
    "\n",
    "energies1 = only_volumes2(energies1_withmore)\n",
    "energies2 = only_volumes2(energies2_withmore)\n",
    "\n",
    "## how many harmonics do we have\n",
    "#print(str(len(energylbl1a_withmore[1][1][1:])) + \" harmonics avaiable\")\n",
    "\n",
    "# we use attack and release and the difference of volume between the two\n",
    "#energylbl1 = [ (l1 + l2 + v) for l1, l2, v in zip(energylbl1a,energylbl1r,vd1)]\n",
    "#energylbl2 = [ (l1 + l2 + v) for l1, l2, v in zip(energylbl2a,energylbl2r,vd2)]\n",
    "#energylbl1 = [ (l1 + l2) for l1, l2 in zip(energylbl1a,energylbl1r)]\n",
    "#energylbl2 = [ (l1 + l2) for l1, l2 in zip(energylbl2a,energylbl2r)]\n",
    "\n",
    "# but in the attack we sometimes fail to recognize the tonic (it is mainly confused with the octave)\n",
    "# so we can use the release and the difference of volume between attack and release\n",
    "#energylbl1 = [ (l1 + v) for l1, l2, v in zip(energylbl1a,energylbl1r,vd1)]\n",
    "#energylbl2 = [ (l1 + v) for l1, l2, v in zip(energylbl2a,energylbl2r,vd2)]\n",
    "\n",
    "# *but* it seems to work better with just l2\n",
    "energies1flattened = list(map(flatten,energies1))\n",
    "energies2flattened = list(map(flatten,energies2))\n",
    "\n",
    "\n",
    "volumes1 = cleannan2(energies1flattened)\n",
    "volumes2 = cleannan2(energies2flattened)\n",
    "#shuffle the input so we train on a random set of the input (the shuffle is done in place )\n",
    "random.seed(1)\n",
    "random.shuffle(volumes1)\n",
    "random.shuffle(volumes2)\n",
    "\n",
    "\n",
    "\n",
    "\n",
    "#nthvolume = [ map(lambda l : l[n], only_volumes) for n in range(0,num_harmonics) ]\n",
    "#\n",
    "#nthvolumecleaned = map(cleannan, nthvolume)\n",
    "#\n",
    "#averages = map(average, nthvolumecleaned)\n",
    "#\n",
    "#minusaverages = [ map(lambda m : m-averages[n], nthvolumecleaned[n]) for n in range(0,num_harmonics) ]\n",
    "#\n",
    "#variances = map(rms, minusaverages)\n",
    "#\n",
    "#variances, averages\n",
    "\n",
    "#print(vd1[2])\n"
   ]
  },
  {
   "cell_type": "code",
   "execution_count": 40,
   "metadata": {
    "collapsed": false
   },
   "outputs": [
    {
     "name": "stdout",
     "output_type": "stream",
     "text": [
      "8 harmonics avaiable\n"
     ]
    }
   ],
   "source": [
    "\n",
    "### LEARN 1\n",
    "\n",
    "\n",
    "howmanyharmonics = 6\n",
    "\n",
    "# forget the frequencies\n",
    "# and forget the first volume which is always 1\n",
    "def only_volumes(energylbl) :\n",
    "    return list(map(lambda l : l[1][1:howmanyharmonics+1], energylbl))\n",
    "\n",
    "\n",
    "# input: list of lists\n",
    "# output: only lists that do not contain any nans\n",
    "def cleannan(l):\n",
    "    return [x for x in l if np.isfinite(x).all()]\n",
    "\n",
    "\n",
    "energylbl1a = only_volumes(energylbl1a_withmore)\n",
    "energylbl1r = only_volumes(energylbl1r_withmore)\n",
    "energylbl2a = only_volumes(energylbl2a_withmore)\n",
    "energylbl2r = only_volumes(energylbl2r_withmore)\n",
    "\n",
    "# how many harmonics do we have\n",
    "print(str(len(energylbl1a_withmore[1][1][1:])) + \" harmonics avaiable\")\n",
    "\n",
    "# we use attack and release and the difference of volume between the two\n",
    "#energylbl1 = [ (l1 + l2 + v) for l1, l2, v in zip(energylbl1a,energylbl1r,vd1)]\n",
    "#energylbl2 = [ (l1 + l2 + v) for l1, l2, v in zip(energylbl2a,energylbl2r,vd2)]\n",
    "#energylbl1 = [ (l1 + l2) for l1, l2 in zip(energylbl1a,energylbl1r)]\n",
    "#energylbl2 = [ (l1 + l2) for l1, l2 in zip(energylbl2a,energylbl2r)]\n",
    "\n",
    "# but in the attack we sometimes fail to recognize the tonic (it is mainly confused with the octave)\n",
    "# so we can use the release and the difference of volume between attack and release\n",
    "#energylbl1 = [ (l1 + v) for l1, l2, v in zip(energylbl1a,energylbl1r,vd1)]\n",
    "#energylbl2 = [ (l1 + v) for l1, l2, v in zip(energylbl2a,energylbl2r,vd2)]\n",
    "\n",
    "# *but* it seems to work better with just l2\n",
    "energylbl1 = energylbl1r\n",
    "energylbl2 = energylbl2r\n",
    "\n",
    "\n",
    "volumes1 = cleannan2(energylbl1)\n",
    "volumes2 = cleannan2(energylbl2)\n",
    "#shuffle the input so we train on a random set of the input (the shuffle is done in place )\n",
    "random.seed(1)\n",
    "random.shuffle(volumes1)\n",
    "random.shuffle(volumes2)\n",
    "\n",
    "\n",
    "\n",
    "\n",
    "#nthvolume = [ map(lambda l : l[n], only_volumes) for n in range(0,num_harmonics) ]\n",
    "#\n",
    "#nthvolumecleaned = map(cleannan, nthvolume)\n",
    "#\n",
    "#averages = map(average, nthvolumecleaned)\n",
    "#\n",
    "#minusaverages = [ map(lambda m : m-averages[n], nthvolumecleaned[n]) for n in range(0,num_harmonics) ]\n",
    "#\n",
    "#variances = map(rms, minusaverages)\n",
    "#\n",
    "#variances, averages\n",
    "\n",
    "#print(vd1[2])"
   ]
  },
  {
   "cell_type": "code",
   "execution_count": 24,
   "metadata": {
    "collapsed": false
   },
   "outputs": [
    {
     "name": "stdout",
     "output_type": "stream",
     "text": [
      "doing data snooping? False\n"
     ]
    }
   ],
   "source": [
    "### LEARN 2\n",
    "\n",
    "from sklearn import neighbors, svm\n",
    "\n",
    "#fractiontrain = 9./10.\n",
    "fractiontrain = 5./6.\n",
    "#fractiontrain = 4./5.\n",
    "#fractiontrain = 1./100.\n",
    "\n",
    "#training examples\n",
    "trainvolumes1 = volumes1[:int(len(volumes1)*fractiontrain)]\n",
    "trainvolumes2 = volumes2[:int(len(volumes2)*fractiontrain)]\n",
    "\n",
    "howmanytrain1 = len(trainvolumes1)\n",
    "howmanytrain2 = len(trainvolumes2)\n",
    "howmanytrain = howmanytrain1 + howmanytrain2\n",
    "\n",
    "#testing examples\n",
    "testvolumes1 = volumes1[int(len(volumes1)*fractiontrain):len(volumes1)]\n",
    "testvolumes2 = volumes2[int(len(volumes2)*fractiontrain):len(volumes2)]\n",
    "\n",
    "howmanytest1 = len(testvolumes1)\n",
    "howmanytest2 = len(testvolumes2)\n",
    "\n",
    "\n",
    "training_ex = trainvolumes1 + trainvolumes2\n",
    "labels = [ 1 for i in range(0,howmanytrain1) ] + [ 0 for i in range(0,howmanytrain2) ]\n",
    "\n",
    "\n",
    "#########################\n",
    "\n",
    "## assert: there are no testing samples in the training set\n",
    "\n",
    "def is_in(e,l):\n",
    "    res = False\n",
    "    for v in l:\n",
    "        if all([f1 == f2 for f1, f2 in zip(e,v)]) :\n",
    "            res = True\n",
    "    return res\n",
    "            \n",
    "#testing: is_in([1.],[[0.],[0.,4,3],[1.]])\n",
    "    \n",
    "alltests = testvolumes1 + testvolumes2\n",
    "\n",
    "datasnooping = any([ is_in(test, training_ex) for test in alltests ])\n",
    "if datasnooping :\n",
    "    print(\"WARNING: you are testing on the training set\")\n",
    "print(\"doing data snooping? \" + str(datasnooping))"
   ]
  },
  {
   "cell_type": "code",
   "execution_count": 25,
   "metadata": {
    "collapsed": false
   },
   "outputs": [
    {
     "data": {
      "text/plain": [
       "KNeighborsClassifier(algorithm='auto', leaf_size=30, metric='minkowski',\n",
       "           metric_params=None, n_jobs=1, n_neighbors=5, p=2,\n",
       "           weights='uniform')"
      ]
     },
     "execution_count": 25,
     "metadata": {},
     "output_type": "execute_result"
    }
   ],
   "source": [
    "### Learning algorithm\n",
    "\n",
    "## SVN does not seem to work\n",
    "#clf = svm.SVC(kernel='linear')\n",
    "#clf.fit(training_ex, labels) \n",
    "\n",
    "\n",
    "# nearest neighboor\n",
    "n_neighbors = 5\n",
    "clf = neighbors.KNeighborsClassifier(n_neighbors)\n",
    "clf.fit(training_ex, labels) "
   ]
  },
  {
   "cell_type": "code",
   "execution_count": 26,
   "metadata": {
    "collapsed": false
   },
   "outputs": [
    {
     "name": "stdout",
     "output_type": "stream",
     "text": [
      "training with: 1053\n",
      "testing with: 212\n",
      "error: 0.254716981132\n"
     ]
    }
   ],
   "source": [
    "### COMPUTING ERROR\n",
    "\n",
    "print(\"training with: \" + str(howmanytrain))\n",
    "print(\"testing with: \" + str(howmanytest1 + howmanytest2))\n",
    "\n",
    "goods1 = list(clf.predict(testvolumes1))\n",
    "goods2 = [ 1-x for x in clf.predict(testvolumes2) ]\n",
    "\n",
    "error = 1. - np.average(goods1+goods2)\n",
    "\n",
    "print(\"error: \" + str(error))\n"
   ]
  },
  {
   "cell_type": "code",
   "execution_count": null,
   "metadata": {
    "collapsed": true
   },
   "outputs": [],
   "source": []
  },
  {
   "cell_type": "code",
   "execution_count": null,
   "metadata": {
    "collapsed": true
   },
   "outputs": [],
   "source": []
  }
 ],
 "metadata": {
  "kernelspec": {
   "display_name": "Python 3",
   "language": "python",
   "name": "python3"
  },
  "language_info": {
   "codemirror_mode": {
    "name": "ipython",
    "version": 3
   },
   "file_extension": ".py",
   "mimetype": "text/x-python",
   "name": "python",
   "nbconvert_exporter": "python",
   "pygments_lexer": "ipython3",
   "version": "3.5.2"
  }
 },
 "nbformat": 4,
 "nbformat_minor": 0
}
