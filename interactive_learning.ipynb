{
 "cells": [
  {
   "cell_type": "code",
   "execution_count": 20,
   "metadata": {
    "collapsed": false
   },
   "outputs": [
    {
     "name": "stdout",
     "output_type": "stream",
     "text": [
      "Populating the interactive namespace from numpy and matplotlib\n"
     ]
    }
   ],
   "source": [
    "from instruments_recognition.importing_data import *\n",
    "from instruments_recognition.plotting import *\n",
    "\n",
    "%pylab inline"
   ]
  },
  {
   "cell_type": "code",
   "execution_count": 13,
   "metadata": {
    "collapsed": false
   },
   "outputs": [],
   "source": [
    "### IMPORTING SYNTHETIC SINUSOIDS calls\n",
    "\n",
    "        \n",
    "algunos = [gimme_sinusoids_noise(500,[.8,.4,.8,.8,.6,.5,.1,.1]),\n",
    "          gimme_sinusoids(400,[.5,.3,.4,.5,.6,.7,.1,.1])]\n",
    "namos = ['500','400']\n",
    "\n",
    "# more global variables\n",
    "ex_transformed, freq_label = list(zip(*map(transform_floats, algunos)))\n",
    "names_and_graphs = list(zip(namos, ex_transformed, freq_label))\n",
    "\n",
    "\n",
    "\n",
    "#plt.plot(ex_transformed[0])\n",
    "#plt.show()\n"
   ]
  },
  {
   "cell_type": "code",
   "execution_count": 16,
   "metadata": {
    "collapsed": false
   },
   "outputs": [],
   "source": [
    "### IMPORTING DATA calls\n",
    "\n",
    "\n",
    "# global variables\n",
    "# directory with data\n",
    "#datadirectory = \"./samples/sonatina_symphonic_orchestra/Samples/Flute/\"\n",
    "datadirectory = \"./samples/flute/philharmonia/\"\n",
    "\n",
    "# maximum of examples\n",
    "max_ex = 5\n",
    "\n",
    "# channels\n",
    "# TODO: do not hardcode this!\n",
    "channels = 1\n",
    "\n",
    "# file names\n",
    "ex_wav = glob.glob(datadirectory + '*.wav')[:max_ex]\n",
    "\n",
    "# TODO: a human-readble version of ex_wav\n",
    "# ex_names = \n",
    "\n",
    "\n",
    "# more global variables\n",
    "ex_transformed, freq_label = list(zip(*map(lambda e : import_convert_transform(e,channels), ex_wav)))\n",
    "names_and_graphs = list(zip(ex_wav, ex_transformed, freq_label))"
   ]
  },
  {
   "cell_type": "code",
   "execution_count": 17,
   "metadata": {
    "collapsed": false
   },
   "outputs": [],
   "source": [
    "### FINDING HARMONICS calls\n",
    "\n",
    "#harmonic_volumes_every_example = [ harmonics_frequency_volumes(ex_tr, freq_lbl) for ex_name , ex_tr, freq_lbl in names_and_graphs ]\n",
    "#harmonic_number_volumes_every_example = [ cast_harmonics(f,v) for f,v in harmonic_volumes_every_example ]\n",
    "harmonic_number_volumes_every_example = [ harmonics_energy(ex_tr, freq_lbl) for ex_name , ex_tr, freq_lbl in names_and_graphs ]\n"
   ]
  },
  {
   "cell_type": "code",
   "execution_count": 18,
   "metadata": {
    "collapsed": false,
    "scrolled": true
   },
   "outputs": [
    {
     "data": {
      "image/png": "[encoded data removed]",
      "text/plain": [
       "<matplotlib.figure.Figure at 0x7fffc2b10080>"
      ]
     },
     "metadata": {},
     "output_type": "display_data"
    }
   ],
   "source": [
    "### PLOTTING calls\n",
    "\n",
    "# get data\n",
    "#names_and_graphs_and_harm = zip(names_and_graphs, harmonic_volumes_every_example)\n",
    "names_and_graphs_and_harm_number = list(zip(names_and_graphs, harmonic_number_volumes_every_example))\n",
    "\n",
    "# plot\n",
    "\n",
    "minfreq_plot = 60\n",
    "maxfreq_plot = 4000\n",
    "\n",
    "plotharmonics_nc(names_and_graphs_and_harm_number)\n",
    "#plotharmonics(names_and_graphs_and_harm_number)\n",
    "#plotharmonics2(names_and_graphs_and_harm_number)\n",
    "#plotspec_and_harmonics(names_and_graphs_and_harm_number)\n",
    "\n",
    "#plt.legend(loc='upper right')\n",
    "#plt.yscale('log')\n",
    "#plt.xlim([minfreq_plot,maxfreq_plot])\n",
    "plt.show()\n",
    "\n",
    "#plt.plot([0,1,2])\n",
    "#plt.show()"
   ]
  },
  {
   "cell_type": "code",
   "execution_count": 19,
   "metadata": {
    "collapsed": false
   },
   "outputs": [
    {
     "ename": "KeyboardInterrupt",
     "evalue": "",
     "output_type": "error",
     "traceback": [
      "\u001b[0;31m---------------------------------------------------------------------------\u001b[0m",
      "\u001b[0;31mKeyboardInterrupt\u001b[0m                         Traceback (most recent call last)",
      "\u001b[0;32m<ipython-input-19-c1ce52bdb932>\u001b[0m in \u001b[0;36m<module>\u001b[0;34m()\u001b[0m\n\u001b[1;32m     17\u001b[0m \u001b[0;31m# zip(ex_transformed2, freq_label2)\u001b[0m\u001b[0;34m\u001b[0m\u001b[0;34m\u001b[0m\u001b[0m\n\u001b[1;32m     18\u001b[0m \u001b[0;34m\u001b[0m\u001b[0m\n\u001b[0;32m---> 19\u001b[0;31m \u001b[0mtrandlbl1ar\u001b[0m\u001b[0;34m,\u001b[0m \u001b[0mvd1\u001b[0m \u001b[0;34m=\u001b[0m \u001b[0mlist\u001b[0m\u001b[0;34m(\u001b[0m\u001b[0mzip\u001b[0m\u001b[0;34m(\u001b[0m\u001b[0;34m*\u001b[0m\u001b[0mmap\u001b[0m\u001b[0;34m(\u001b[0m\u001b[0;32mlambda\u001b[0m \u001b[0me\u001b[0m\u001b[0;34m:\u001b[0m \u001b[0mimport_convert_transform2\u001b[0m\u001b[0;34m(\u001b[0m\u001b[0me\u001b[0m\u001b[0;34m,\u001b[0m\u001b[0mchannels\u001b[0m\u001b[0;34m)\u001b[0m\u001b[0;34m,\u001b[0m \u001b[0mex_wav1\u001b[0m\u001b[0;34m)\u001b[0m\u001b[0;34m)\u001b[0m\u001b[0;34m)\u001b[0m\u001b[0;34m\u001b[0m\u001b[0m\n\u001b[0m\u001b[1;32m     20\u001b[0m \u001b[0mtrandlbl2ar\u001b[0m\u001b[0;34m,\u001b[0m \u001b[0mvd2\u001b[0m \u001b[0;34m=\u001b[0m \u001b[0mlist\u001b[0m\u001b[0;34m(\u001b[0m\u001b[0mzip\u001b[0m\u001b[0;34m(\u001b[0m\u001b[0;34m*\u001b[0m\u001b[0mmap\u001b[0m\u001b[0;34m(\u001b[0m\u001b[0;32mlambda\u001b[0m \u001b[0me\u001b[0m\u001b[0;34m:\u001b[0m \u001b[0mimport_convert_transform2\u001b[0m\u001b[0;34m(\u001b[0m\u001b[0me\u001b[0m\u001b[0;34m,\u001b[0m\u001b[0mchannels\u001b[0m\u001b[0;34m)\u001b[0m\u001b[0;34m,\u001b[0m \u001b[0mex_wav2\u001b[0m\u001b[0;34m)\u001b[0m\u001b[0;34m)\u001b[0m\u001b[0;34m)\u001b[0m\u001b[0;34m\u001b[0m\u001b[0m\n\u001b[1;32m     21\u001b[0m \u001b[0;34m\u001b[0m\u001b[0m\n",
      "\u001b[0;32m<ipython-input-19-c1ce52bdb932>\u001b[0m in \u001b[0;36m<lambda>\u001b[0;34m(e)\u001b[0m\n\u001b[1;32m     17\u001b[0m \u001b[0;31m# zip(ex_transformed2, freq_label2)\u001b[0m\u001b[0;34m\u001b[0m\u001b[0;34m\u001b[0m\u001b[0m\n\u001b[1;32m     18\u001b[0m \u001b[0;34m\u001b[0m\u001b[0m\n\u001b[0;32m---> 19\u001b[0;31m \u001b[0mtrandlbl1ar\u001b[0m\u001b[0;34m,\u001b[0m \u001b[0mvd1\u001b[0m \u001b[0;34m=\u001b[0m \u001b[0mlist\u001b[0m\u001b[0;34m(\u001b[0m\u001b[0mzip\u001b[0m\u001b[0;34m(\u001b[0m\u001b[0;34m*\u001b[0m\u001b[0mmap\u001b[0m\u001b[0;34m(\u001b[0m\u001b[0;32mlambda\u001b[0m \u001b[0me\u001b[0m\u001b[0;34m:\u001b[0m \u001b[0mimport_convert_transform2\u001b[0m\u001b[0;34m(\u001b[0m\u001b[0me\u001b[0m\u001b[0;34m,\u001b[0m\u001b[0mchannels\u001b[0m\u001b[0;34m)\u001b[0m\u001b[0;34m,\u001b[0m \u001b[0mex_wav1\u001b[0m\u001b[0;34m)\u001b[0m\u001b[0;34m)\u001b[0m\u001b[0;34m)\u001b[0m\u001b[0;34m\u001b[0m\u001b[0m\n\u001b[0m\u001b[1;32m     20\u001b[0m \u001b[0mtrandlbl2ar\u001b[0m\u001b[0;34m,\u001b[0m \u001b[0mvd2\u001b[0m \u001b[0;34m=\u001b[0m \u001b[0mlist\u001b[0m\u001b[0;34m(\u001b[0m\u001b[0mzip\u001b[0m\u001b[0;34m(\u001b[0m\u001b[0;34m*\u001b[0m\u001b[0mmap\u001b[0m\u001b[0;34m(\u001b[0m\u001b[0;32mlambda\u001b[0m \u001b[0me\u001b[0m\u001b[0;34m:\u001b[0m \u001b[0mimport_convert_transform2\u001b[0m\u001b[0;34m(\u001b[0m\u001b[0me\u001b[0m\u001b[0;34m,\u001b[0m\u001b[0mchannels\u001b[0m\u001b[0;34m)\u001b[0m\u001b[0;34m,\u001b[0m \u001b[0mex_wav2\u001b[0m\u001b[0;34m)\u001b[0m\u001b[0;34m)\u001b[0m\u001b[0;34m)\u001b[0m\u001b[0;34m\u001b[0m\u001b[0m\n\u001b[1;32m     21\u001b[0m \u001b[0;34m\u001b[0m\u001b[0m\n",
      "\u001b[0;32m/home/lui/ml/instruments/instruments_recognition/importing_data.py\u001b[0m in \u001b[0;36mimport_convert_transform2\u001b[0;34m(ex, channels)\u001b[0m\n\u001b[1;32m     73\u001b[0m \u001b[0;32mdef\u001b[0m \u001b[0mimport_convert_transform2\u001b[0m\u001b[0;34m(\u001b[0m\u001b[0mex\u001b[0m\u001b[0;34m,\u001b[0m\u001b[0mchannels\u001b[0m\u001b[0;34m)\u001b[0m \u001b[0;34m:\u001b[0m\u001b[0;34m\u001b[0m\u001b[0m\n\u001b[1;32m     74\u001b[0m     \u001b[0;31m# import wav and convert to float\u001b[0m\u001b[0;34m\u001b[0m\u001b[0;34m\u001b[0m\u001b[0m\n\u001b[0;32m---> 75\u001b[0;31m     \u001b[0mex_float\u001b[0m \u001b[0;34m=\u001b[0m \u001b[0mconvert_to_float\u001b[0m\u001b[0;34m(\u001b[0m\u001b[0mex\u001b[0m\u001b[0;34m,\u001b[0m\u001b[0mchannels\u001b[0m\u001b[0;34m)\u001b[0m\u001b[0;34m\u001b[0m\u001b[0m\n\u001b[0m\u001b[1;32m     76\u001b[0m     \u001b[0mwindows\u001b[0m \u001b[0;34m=\u001b[0m \u001b[0mattack_and_release\u001b[0m\u001b[0;34m(\u001b[0m\u001b[0mex_float\u001b[0m\u001b[0;34m)\u001b[0m\u001b[0;34m\u001b[0m\u001b[0m\n\u001b[1;32m     77\u001b[0m     \u001b[0mvolumeswindows\u001b[0m \u001b[0;34m=\u001b[0m \u001b[0mlist\u001b[0m\u001b[0;34m(\u001b[0m\u001b[0mmap\u001b[0m\u001b[0;34m(\u001b[0m\u001b[0mrms\u001b[0m\u001b[0;34m,\u001b[0m\u001b[0mwindows\u001b[0m\u001b[0;34m)\u001b[0m\u001b[0;34m)\u001b[0m\u001b[0;34m\u001b[0m\u001b[0m\n",
      "\u001b[0;32m/home/lui/ml/instruments/instruments_recognition/importing_data.py\u001b[0m in \u001b[0;36mconvert_to_float\u001b[0;34m(ex, channels)\u001b[0m\n\u001b[1;32m     65\u001b[0m     \u001b[0;32melse\u001b[0m \u001b[0;34m:\u001b[0m\u001b[0;34m\u001b[0m\u001b[0m\n\u001b[1;32m     66\u001b[0m         \u001b[0mimported\u001b[0m \u001b[0;34m=\u001b[0m \u001b[0mimport16stereo1wav\u001b[0m\u001b[0;34m(\u001b[0m\u001b[0mex\u001b[0m\u001b[0;34m)\u001b[0m\u001b[0;34m\u001b[0m\u001b[0m\n\u001b[0;32m---> 67\u001b[0;31m     \u001b[0;32mreturn\u001b[0m \u001b[0mnormalize16bits\u001b[0m\u001b[0;34m(\u001b[0m\u001b[0mkillsilence_wav\u001b[0m\u001b[0;34m(\u001b[0m\u001b[0mimported\u001b[0m\u001b[0;34m)\u001b[0m\u001b[0;34m)\u001b[0m\u001b[0;34m\u001b[0m\u001b[0m\n\u001b[0m\u001b[1;32m     68\u001b[0m \u001b[0;34m\u001b[0m\u001b[0m\n\u001b[1;32m     69\u001b[0m \u001b[0;34m\u001b[0m\u001b[0m\n",
      "\u001b[0;32m/home/lui/ml/instruments/instruments_recognition/importing_data.py\u001b[0m in \u001b[0;36mnormalize16bits\u001b[0;34m(vector)\u001b[0m\n\u001b[1;32m     41\u001b[0m \u001b[0;31m# normalize to a float in [-1,1]\u001b[0m\u001b[0;34m\u001b[0m\u001b[0;34m\u001b[0m\u001b[0m\n\u001b[1;32m     42\u001b[0m \u001b[0;32mdef\u001b[0m \u001b[0mnormalize16bits\u001b[0m\u001b[0;34m(\u001b[0m\u001b[0mvector\u001b[0m\u001b[0;34m)\u001b[0m \u001b[0;34m:\u001b[0m\u001b[0;34m\u001b[0m\u001b[0m\n\u001b[0;32m---> 43\u001b[0;31m     \u001b[0;32mreturn\u001b[0m \u001b[0;34m[\u001b[0m \u001b[0msample\u001b[0m\u001b[0;34m/\u001b[0m\u001b[0;36m2\u001b[0m\u001b[0;34m**\u001b[0m\u001b[0;36m16.\u001b[0m \u001b[0;32mfor\u001b[0m \u001b[0msample\u001b[0m \u001b[0;32min\u001b[0m \u001b[0mvector\u001b[0m \u001b[0;34m]\u001b[0m\u001b[0;34m\u001b[0m\u001b[0m\n\u001b[0m\u001b[1;32m     44\u001b[0m \u001b[0;34m\u001b[0m\u001b[0m\n\u001b[1;32m     45\u001b[0m \u001b[0;31m# kills first nad last samples under some threshold\u001b[0m\u001b[0;34m\u001b[0m\u001b[0;34m\u001b[0m\u001b[0m\n",
      "\u001b[0;32m/home/lui/ml/instruments/instruments_recognition/importing_data.py\u001b[0m in \u001b[0;36m<listcomp>\u001b[0;34m(.0)\u001b[0m\n\u001b[1;32m     41\u001b[0m \u001b[0;31m# normalize to a float in [-1,1]\u001b[0m\u001b[0;34m\u001b[0m\u001b[0;34m\u001b[0m\u001b[0m\n\u001b[1;32m     42\u001b[0m \u001b[0;32mdef\u001b[0m \u001b[0mnormalize16bits\u001b[0m\u001b[0;34m(\u001b[0m\u001b[0mvector\u001b[0m\u001b[0;34m)\u001b[0m \u001b[0;34m:\u001b[0m\u001b[0;34m\u001b[0m\u001b[0m\n\u001b[0;32m---> 43\u001b[0;31m     \u001b[0;32mreturn\u001b[0m \u001b[0;34m[\u001b[0m \u001b[0msample\u001b[0m\u001b[0;34m/\u001b[0m\u001b[0;36m2\u001b[0m\u001b[0;34m**\u001b[0m\u001b[0;36m16.\u001b[0m \u001b[0;32mfor\u001b[0m \u001b[0msample\u001b[0m \u001b[0;32min\u001b[0m \u001b[0mvector\u001b[0m \u001b[0;34m]\u001b[0m\u001b[0;34m\u001b[0m\u001b[0m\n\u001b[0m\u001b[1;32m     44\u001b[0m \u001b[0;34m\u001b[0m\u001b[0m\n\u001b[1;32m     45\u001b[0m \u001b[0;31m# kills first nad last samples under some threshold\u001b[0m\u001b[0;34m\u001b[0m\u001b[0;34m\u001b[0m\u001b[0m\n",
      "\u001b[0;31mKeyboardInterrupt\u001b[0m: "
     ]
    }
   ],
   "source": [
    "### LEARN functions\n",
    "\n",
    "datadirectory1 = \"./samples/flute/philharmonia/\"\n",
    "datadirectory2 = \"./samples/oboe/philharmonia/\"\n",
    "\n",
    "howmanyexamples = 700\n",
    "\n",
    "channels = 1\n",
    "\n",
    "ex_wav1 = glob.glob(datadirectory1 + '*.wav')[:howmanyexamples]\n",
    "ex_wav2 = glob.glob(datadirectory2 + '*.wav')[:howmanyexamples]\n",
    "\n",
    "#ex_transformed1, freq_label1 = zip(*map(import_convert_transform, ex_wav1))\n",
    "#ex_transformed2, freq_label2 = zip(*map(import_convert_transform, ex_wav2))\n",
    "\n",
    "# zip(ex_transformed1, freq_label1)\n",
    "# zip(ex_transformed2, freq_label2)\n",
    "\n",
    "trandlbl1ar, vd1 = list(zip(*map(lambda e: import_convert_transform2(e,channels), ex_wav1)))\n",
    "trandlbl2ar, vd2 = list(zip(*map(lambda e: import_convert_transform2(e,channels), ex_wav2)))\n",
    "\n",
    "trandlbl1a, trandlbl1r = list(zip(*trandlbl1ar))\n",
    "trandlbl2a, trandlbl2r = list(zip(*trandlbl2ar))\n",
    "\n",
    "\n",
    "### LEARN 2\n",
    "\n",
    "#print(trandlbl1a[0])\n",
    "\n",
    "\n",
    "\n",
    "energylbl1a_withmore = [ harmonics_energy(ex_tr, freq_lbl) for ex_tr, freq_lbl in trandlbl1a ]\n",
    "energylbl2a_withmore = [ harmonics_energy(ex_tr, freq_lbl) for ex_tr, freq_lbl in trandlbl2a ]\n",
    "\n",
    "energylbl1r_withmore = [ harmonics_energy(ex_tr, freq_lbl) for ex_tr, freq_lbl in trandlbl1r ]\n",
    "energylbl2r_withmore = [ harmonics_energy(ex_tr, freq_lbl) for ex_tr, freq_lbl in trandlbl2r ]\n",
    "\n",
    "\n",
    "#### make a copy since we will shuffle the inputs and the shuffling works in place!\n",
    "#energylbl1a_withmore = copy.deepcopy(energylbl1a_withmore_)\n",
    "#energylbl2a_withmore = copy.deepcopy(energylbl2a_withmore_)\n",
    "#energylbl1r_withmore = copy.deepcopy(energylbl1r_withmore_)\n",
    "#energylbl2r_withmore = copy.deepcopy(energylbl2r_withmore_)\n"
   ]
  },
  {
   "cell_type": "code",
   "execution_count": 28,
   "metadata": {
    "collapsed": false
   },
   "outputs": [],
   "source": [
    "### LEARN 3\n",
    "\n",
    "\n",
    "howmanyharmonics = 7\n",
    "\n",
    "# forget the frequencies\n",
    "# and forget the first volume which is always 1\n",
    "def only_volumes(energylbl) :\n",
    "    return list(map(lambda l : l[1][1:howmanyharmonics+1], energylbl))\n",
    "\n",
    "# take only non nan from a list\n",
    "def cleannan(l):\n",
    "    return [x for x in l if not isnan(x)]\n",
    "\n",
    "# input: list of lists\n",
    "# output: only lists that do not contain any nans\n",
    "def cleannan2(l):\n",
    "    return [x for x in l if np.isfinite(x).all()]\n",
    "\n",
    "\n",
    "energylbl1a = only_volumes(energylbl1a_withmore)\n",
    "energylbl1r = only_volumes(energylbl1r_withmore)\n",
    "energylbl2a = only_volumes(energylbl2a_withmore)\n",
    "energylbl2r = only_volumes(energylbl2r_withmore)\n",
    "\n",
    "\n",
    "# we can put l1 and l2, or just l2.\n",
    "#energylbl1 = [ (l1 + l2) for l1, l2, v in zip(energylbl1a,energylbl1r,vd1)]\n",
    "#energylbl2 = [ (l1 + l2) for l1, l2, v in zip(energylbl2a,energylbl2r,vd2)]\n",
    "# it seems to work better with just l2\n",
    "energylbl1 = energylbl1r\n",
    "energylbl2 = energylbl2r\n",
    "\n",
    "\n",
    "volumes1 = cleannan2(energylbl1)\n",
    "volumes2 = cleannan2(energylbl2)\n",
    "#shuffle the inputs (this is in place )\n",
    "random.seed(0)\n",
    "random.shuffle(volumes1)\n",
    "random.shuffle(volumes2)\n",
    "\n",
    "\n",
    "#nthvolume = [ map(lambda l : l[n], only_volumes) for n in range(0,num_harmonics) ]\n",
    "#\n",
    "#nthvolumecleaned = map(cleannan, nthvolume)\n",
    "#\n",
    "#averages = map(average, nthvolumecleaned)\n",
    "#\n",
    "#minusaverages = [ map(lambda m : m-averages[n], nthvolumecleaned[n]) for n in range(0,num_harmonics) ]\n",
    "#\n",
    "#variances = map(rms, minusaverages)\n",
    "#\n",
    "#variances, averages\n",
    "\n",
    "#print(vd1[2])"
   ]
  },
  {
   "cell_type": "code",
   "execution_count": 30,
   "metadata": {
    "collapsed": false
   },
   "outputs": [
    {
     "name": "stdout",
     "output_type": "stream",
     "text": [
      "doing data snooping? False\n"
     ]
    }
   ],
   "source": [
    "### LEARN 4\n",
    "\n",
    "from sklearn import neighbors, svm\n",
    "\n",
    "#fractiontrain = 9./10.\n",
    "fractiontrain = 5./6.\n",
    "#fractiontrain = 4./5.\n",
    "#fractiontrain = 1./100.\n",
    "\n",
    "#training examples\n",
    "trainvolumes1 = volumes1[:int(len(volumes1)*fractiontrain)]\n",
    "trainvolumes2 = volumes2[:int(len(volumes2)*fractiontrain)]\n",
    "\n",
    "howmanytrain1 = len(trainvolumes1)\n",
    "howmanytrain2 = len(trainvolumes2)\n",
    "howmanytrain = howmanytrain1 + howmanytrain2\n",
    "\n",
    "#testing examples\n",
    "testvolumes1 = volumes1[int(len(volumes1)*fractiontrain):len(volumes1)]\n",
    "testvolumes2 = volumes2[int(len(volumes2)*fractiontrain):len(volumes2)]\n",
    "\n",
    "howmanytest1 = len(testvolumes1)\n",
    "howmanytest2 = len(testvolumes2)\n",
    "\n",
    "\n",
    "training_ex = trainvolumes1 + trainvolumes2\n",
    "labels = [ 1 for i in range(0,howmanytrain1) ] + [ 0 for i in range(0,howmanytrain2) ]\n",
    "\n",
    "\n",
    "#########################\n",
    "\n",
    "## assert: there are no testing samples in the training set\n",
    "\n",
    "def is_in(e,l):\n",
    "    res = False\n",
    "    for v in l:\n",
    "        if all([f1 == f2 for f1, f2 in zip(e,v)]) :\n",
    "            res = True\n",
    "    return res\n",
    "            \n",
    "#testing: is_in([1.],[[0.],[0.,4,3],[1.]])\n",
    "    \n",
    "alltests = testvolumes1 + testvolumes2\n",
    "\n",
    "datasnooping = any([ is_in(test, training_ex) for test in alltests ])\n",
    "if datasnooping :\n",
    "    print(\"WARNING: you are testing on the training set\")\n",
    "print(\"doing data snooping? \" + str(datasnooping))"
   ]
  },
  {
   "cell_type": "code",
   "execution_count": 31,
   "metadata": {
    "collapsed": false
   },
   "outputs": [
    {
     "data": {
      "text/plain": [
       "KNeighborsClassifier(algorithm='auto', leaf_size=30, metric='minkowski',\n",
       "           metric_params=None, n_jobs=1, n_neighbors=5, p=2,\n",
       "           weights='uniform')"
      ]
     },
     "execution_count": 31,
     "metadata": {},
     "output_type": "execute_result"
    }
   ],
   "source": [
    "### Learning algorithm\n",
    "\n",
    "## SVN does not seem to work\n",
    "#clf = svm.SVC(kernel='linear')\n",
    "#clf.fit(training_ex, labels) \n",
    "\n",
    "\n",
    "# nearest neighboor\n",
    "n_neighbors = 5\n",
    "clf = neighbors.KNeighborsClassifier(n_neighbors)\n",
    "clf.fit(training_ex, labels) "
   ]
  },
  {
   "cell_type": "code",
   "execution_count": 32,
   "metadata": {
    "collapsed": false
   },
   "outputs": [
    {
     "name": "stdout",
     "output_type": "stream",
     "text": [
      "training with: 1021\n",
      "testing with: 206\n",
      "error: 0.208737864078\n"
     ]
    }
   ],
   "source": [
    "### CALCULATING ERROR\n",
    "\n",
    "print(\"training with: \" + str(howmanytrain))\n",
    "print(\"testing with: \" + str(howmanytest1 + howmanytest2))\n",
    "\n",
    "goods1 = list(clf.predict(testvolumes1))\n",
    "goods2 = [ 1-x for x in clf.predict(testvolumes2) ]\n",
    "\n",
    "error = 1. - np.average(goods1+goods2)\n",
    "\n",
    "print(\"error: \" + str(error))\n"
   ]
  },
  {
   "cell_type": "code",
   "execution_count": 608,
   "metadata": {
    "collapsed": false,
    "scrolled": true
   },
   "outputs": [],
   "source": [
    "\n",
    "def only_volumes1(energylbl) :\n",
    "    return list(map(lambda l : l[1][1:], energylbl))\n",
    "\n",
    "#only_volumes(energylbl1)"
   ]
  },
  {
   "cell_type": "code",
   "execution_count": 370,
   "metadata": {
    "collapsed": false
   },
   "outputs": [
    {
     "data": {
      "text/plain": [
       "{1}"
      ]
     },
     "execution_count": 370,
     "metadata": {},
     "output_type": "execute_result"
    }
   ],
   "source": [
    "set([1,2]).intersection(set([1]))"
   ]
  },
  {
   "cell_type": "code",
   "execution_count": 467,
   "metadata": {
    "collapsed": false
   },
   "outputs": [
    {
     "data": {
      "text/plain": [
       "[4, 6, 5, 2, 1, 3]"
      ]
     },
     "execution_count": 467,
     "metadata": {},
     "output_type": "execute_result"
    }
   ],
   "source": [
    "a = [1,2,3,4,5,6]\n",
    "np.random.seed(3)\n",
    "np.random.shuffle(a)\n",
    "a"
   ]
  },
  {
   "cell_type": "code",
   "execution_count": 9,
   "metadata": {
    "collapsed": false
   },
   "outputs": [],
   "source": [
    "a = [1,2]\n",
    "b = copy.copy(a)"
   ]
  },
  {
   "cell_type": "code",
   "execution_count": null,
   "metadata": {
    "collapsed": true
   },
   "outputs": [],
   "source": []
  }
 ],
 "metadata": {
  "kernelspec": {
   "display_name": "Python 3",
   "language": "python",
   "name": "python3"
  },
  "language_info": {
   "codemirror_mode": {
    "name": "ipython",
    "version": 3
   },
   "file_extension": ".py",
   "mimetype": "text/x-python",
   "name": "python",
   "nbconvert_exporter": "python",
   "pygments_lexer": "ipython3",
   "version": "3.5.2"
  }
 },
 "nbformat": 4,
 "nbformat_minor": 0
}
