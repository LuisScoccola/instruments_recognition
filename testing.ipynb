{
 "cells": [
  {
   "cell_type": "code",
   "execution_count": 3,
   "metadata": {
    "collapsed": false
   },
   "outputs": [
    {
     "name": "stdout",
     "output_type": "stream",
     "text": [
      "Populating the interactive namespace from numpy and matplotlib\n"
     ]
    }
   ],
   "source": [
    "from instruments_recognition.signal_processing import *\n",
    "from instruments_recognition.plotting import *\n",
    "\n",
    "%pylab inline"
   ]
  },
  {
   "cell_type": "code",
   "execution_count": 4,
   "metadata": {
    "collapsed": false
   },
   "outputs": [
    {
     "name": "stdout",
     "output_type": "stream",
     "text": [
      "the depth is: 16\n",
      "the number of channels is: 1\n",
      "the number of samples is: 16128\n",
      "the tonic is: 442.190512919 Hz\n"
     ]
    },
    {
     "data": {
      "image/png": "[encoded data removed]",
      "text/plain": [
       "<matplotlib.figure.Figure at 0x7fffba6b2e48>"
      ]
     },
     "metadata": {},
     "output_type": "display_data"
    },
    {
     "name": "stdout",
     "output_type": "stream",
     "text": [
      "the tonic is: 442.190512919 Hz\n"
     ]
    },
    {
     "data": {
      "text/plain": [
       "[array([ 1.        ,  1.31762482,  0.80186335,  0.33999712,  0.17971751,\n",
       "         0.17538255,  0.04572208,  0.02077197,  0.01747906]),\n",
       " array([ 1.        ,  1.1480939 ,  0.93061394,  0.49512504,  0.19885462,\n",
       "         0.22590082,  0.05236146,  0.05498483,  0.02988525]),\n",
       " array([ 1.        ,  1.08165709,  0.90700278,  0.514531  ,  0.19242602,\n",
       "         0.2095192 ,  0.04242196,  0.05295729,  0.02807492]),\n",
       " array([ 1.        ,  0.43841623,  0.32592049,  0.11739079,  0.09120586,\n",
       "         0.02444191,  0.00804085,  0.00421116,  0.00260784])]"
      ]
     },
     "execution_count": 4,
     "metadata": {},
     "output_type": "execute_result"
    }
   ],
   "source": [
    "#datadirectory = \"./samples/sonatina_symphonic_orchestra/Samples/Flute/\"\n",
    "datadirectory = \"./samples/flute/philharmonia/LA4/\"\n",
    "\n",
    "# maximum of examples\n",
    "max_ex = 10\n",
    "\n",
    "# file names\n",
    "ex_wav = glob.glob(datadirectory + '*.wav')[:max_ex]\n",
    "\n",
    "a_signal = FSignal.from_wav_file_and_clean(ex_wav[0])\n",
    "\n",
    "a_signal.fsignal\n",
    "\n",
    "windowses = a_signal.many_windows(5,0.12)\n",
    "\n",
    "one_window = windowses[1]\n",
    "\n",
    "plt.plot(windowses[3].fsignal)\n",
    "\n",
    "a_spectrum = FSpectrum(a_signal)\n",
    "a_spectrum.find_tonic(100,10000)\n",
    "\n",
    "#a_spectrum = FSpectrum(a_signal)\n",
    "#\n",
    "#plt.plot(a_spectrum.spectrum)\n",
    "\n",
    "plt.show()\n",
    "\n",
    "a_spectrum.frequency_energy(440), a_spectrum.frequency_energy(880)\n",
    "\n",
    "har = Harmonics(a_spectrum,440,10)\n",
    "har.volumes\n",
    "\n",
    "[har.volumes for har in signal_to_harmonics(a_signal)]\n",
    "\n",
    "# TODO: a human-readble version of ex_wav\n",
    "# ex_names = \n",
    "\n",
    "\n",
    "# more global variables\n",
    "# just with release\n",
    "#ex_transformed, freq_label = list(zip(*map(lambda e : import_convert_transform_release(e,channels), ex_wav)))\n",
    "#names_and_graphs = list(zip(ex_wav, ex_transformed, freq_label))"
   ]
  },
  {
   "cell_type": "code",
   "execution_count": null,
   "metadata": {
    "collapsed": true
   },
   "outputs": [],
   "source": []
  }
 ],
 "metadata": {
  "kernelspec": {
   "display_name": "Python 3",
   "language": "python",
   "name": "python3"
  },
  "language_info": {
   "codemirror_mode": {
    "name": "ipython",
    "version": 3
   },
   "file_extension": ".py",
   "mimetype": "text/x-python",
   "name": "python",
   "nbconvert_exporter": "python",
   "pygments_lexer": "ipython3",
   "version": "3.5.2"
  }
 },
 "nbformat": 4,
 "nbformat_minor": 0
}
