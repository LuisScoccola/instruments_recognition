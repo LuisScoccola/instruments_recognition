{
 "cells": [
  {
   "cell_type": "code",
   "execution_count": 1,
   "metadata": {
    "collapsed": false
   },
   "outputs": [
    {
     "name": "stdout",
     "output_type": "stream",
     "text": [
      "Populating the interactive namespace from numpy and matplotlib\n"
     ]
    }
   ],
   "source": [
    "from instruments_recognition.importing_data import *\n",
    "from instruments_recognition.plotting import *\n",
    "#import pymir.AudioFile\n",
    "\n",
    "%pylab inline"
   ]
  },
  {
   "cell_type": "code",
   "execution_count": 2,
   "metadata": {
    "collapsed": true
   },
   "outputs": [],
   "source": [
    "### IMPORTING SYNTHETIC SINUSOIDS calls\n",
    "\n",
    "        \n",
    "algunos = [gimme_sinusoids_noise(500,[.8,.4,.8,.8,.6,.5,.1,.1]),\n",
    "          gimme_sinusoids(400,[.5,.3,.4,.5,.6,.7,.1,.1])]\n",
    "namos = ['500','400']\n",
    "\n",
    "# more global variables\n",
    "ex_transformed, freq_label = list(zip(*map(transform_floats, algunos)))\n",
    "names_and_graphs = list(zip(namos, ex_transformed, freq_label))\n",
    "\n",
    "\n",
    "\n",
    "#plt.plot(ex_transformed[0])\n",
    "#plt.show()\n"
   ]
  },
  {
   "cell_type": "code",
   "execution_count": 3,
   "metadata": {
    "collapsed": true
   },
   "outputs": [],
   "source": [
    "### IMPORTING DATA calls\n",
    "\n",
    "\n",
    "# global variables\n",
    "# directory with data\n",
    "#datadirectory = \"./samples/sonatina_symphonic_orchestra/Samples/Flute/\"\n",
    "datadirectory = \"./samples/flute/philharmonia/\"\n",
    "\n",
    "# maximum of examples\n",
    "max_ex = 5\n",
    "\n",
    "# channels\n",
    "# TODO: do not hardcode this!\n",
    "channels = 1\n",
    "\n",
    "# file names\n",
    "ex_wav = glob.glob(datadirectory + '*.wav')[:max_ex]\n",
    "\n",
    "# TODO: a human-readble version of ex_wav\n",
    "# ex_names = \n",
    "\n",
    "\n",
    "# more global variables\n",
    "ex_transformed, freq_label = list(zip(*map(lambda e : import_convert_transform(e,channels), ex_wav)))\n",
    "names_and_graphs = list(zip(ex_wav, ex_transformed, freq_label))"
   ]
  },
  {
   "cell_type": "code",
   "execution_count": 4,
   "metadata": {
    "collapsed": true
   },
   "outputs": [],
   "source": [
    "### FINDING HARMONICS calls\n",
    "\n",
    "#harmonic_volumes_every_example = [ harmonics_frequency_volumes(ex_tr, freq_lbl) for ex_name , ex_tr, freq_lbl in names_and_graphs ]\n",
    "#harmonic_number_volumes_every_example = [ cast_harmonics(f,v) for f,v in harmonic_volumes_every_example ]\n",
    "harmonic_number_volumes_every_example = [ harmonics_energy(ex_tr, freq_lbl) for ex_name , ex_tr, freq_lbl in names_and_graphs ]\n"
   ]
  },
  {
   "cell_type": "code",
   "execution_count": 5,
   "metadata": {
    "collapsed": false
   },
   "outputs": [
    {
     "data": {
      "image/png": "[encoded data removed]",
      "text/plain": [
       "<matplotlib.figure.Figure at 0x7fffba8eb438>"
      ]
     },
     "metadata": {},
     "output_type": "display_data"
    }
   ],
   "source": [
    "### PLOTTING calls\n",
    "\n",
    "# get data\n",
    "#names_and_graphs_and_harm = zip(names_and_graphs, harmonic_volumes_every_example)\n",
    "names_and_graphs_and_harm_number = list(zip(names_and_graphs, harmonic_number_volumes_every_example))\n",
    "\n",
    "# plot\n",
    "\n",
    "minfreq_plot = 60\n",
    "maxfreq_plot = 4000\n",
    "\n",
    "plotharmonics_nc(names_and_graphs_and_harm_number)\n",
    "#plotharmonics(names_and_graphs_and_harm_number)\n",
    "#plotharmonics2(names_and_graphs_and_harm_number)\n",
    "#plotspec_and_harmonics(names_and_graphs_and_harm_number)\n",
    "\n",
    "#plt.legend(loc='upper right')\n",
    "#plt.yscale('log')\n",
    "#plt.xlim([minfreq_plot,maxfreq_plot])\n",
    "plt.show()\n",
    "\n",
    "#plt.plot([0,1,2])\n",
    "#plt.show()"
   ]
  },
  {
   "cell_type": "code",
   "execution_count": null,
   "metadata": {
    "collapsed": true
   },
   "outputs": [],
   "source": []
  }
 ],
 "metadata": {
  "kernelspec": {
   "display_name": "Python 3",
   "language": "python",
   "name": "python3"
  },
  "language_info": {
   "codemirror_mode": {
    "name": "ipython",
    "version": 3
   },
   "file_extension": ".py",
   "mimetype": "text/x-python",
   "name": "python",
   "nbconvert_exporter": "python",
   "pygments_lexer": "ipython3",
   "version": "3.5.2"
  }
 },
 "nbformat": 4,
 "nbformat_minor": 0
}
