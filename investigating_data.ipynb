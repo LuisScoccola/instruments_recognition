{
 "cells": [
  {
   "cell_type": "code",
   "execution_count": 1,
   "metadata": {
    "collapsed": false
   },
   "outputs": [
    {
     "name": "stdout",
     "output_type": "stream",
     "text": [
      "Populating the interactive namespace from numpy and matplotlib\n"
     ]
    }
   ],
   "source": [
    "from instruments_recognition.importing_data import *\n",
    "from instruments_recognition.plotting import *\n",
    "\n",
    "%pylab inline"
   ]
  },
  {
   "cell_type": "code",
   "execution_count": 2,
   "metadata": {
    "collapsed": true
   },
   "outputs": [],
   "source": [
    "### IMPORTING SYNTHETIC SINUSOIDS calls\n",
    "\n",
    "        \n",
    "algunos = [gimme_sinusoids_noise(500,[.8,.4,.8,.8,.6,.5,.1,.1]),\n",
    "          gimme_sinusoids(400,[.5,.3,.4,.5,.6,.7,.1,.1])]\n",
    "namos = ['500','400']\n",
    "\n",
    "# more global variables\n",
    "ex_transformed, freq_label = list(zip(*map(transform_floats, algunos)))\n",
    "names_and_graphs = list(zip(namos, ex_transformed, freq_label))\n",
    "\n",
    "\n",
    "\n",
    "#plt.plot(ex_transformed[0])\n",
    "#plt.show()\n"
   ]
  },
  {
   "cell_type": "code",
   "execution_count": 6,
   "metadata": {
    "collapsed": false
   },
   "outputs": [],
   "source": [
    "### IMPORTING DATA calls\n",
    "\n",
    "\n",
    "# global variables\n",
    "# directory with data\n",
    "#datadirectory = \"./samples/sonatina_symphonic_orchestra/Samples/Flute/\"\n",
    "datadirectory = \"./samples/flute/philharmonia/LA4/\"\n",
    "\n",
    "# maximum of examples\n",
    "max_ex = 1\n",
    "\n",
    "# channels\n",
    "# TODO: do not hardcode this!\n",
    "channels = 1\n",
    "\n",
    "# file names\n",
    "ex_wav = glob.glob(datadirectory + '*.wav')[:max_ex]\n",
    "\n",
    "# TODO: a human-readble version of ex_wav\n",
    "# ex_names = \n",
    "\n",
    "\n",
    "# more global variables\n",
    "# just with release\n",
    "ex_transformed, freq_label = list(zip(*map(lambda e : import_convert_transform_release(e,channels), ex_wav)))\n",
    "names_and_graphs = list(zip(ex_wav, ex_transformed, freq_label))\n",
    "\n",
    "# attack and release\n",
    "# todo"
   ]
  },
  {
   "cell_type": "code",
   "execution_count": 7,
   "metadata": {
    "collapsed": false
   },
   "outputs": [],
   "source": [
    "### FINDING HARMONICS calls\n",
    "\n",
    "\n",
    "#harmonic_volumes_every_example = [ harmonics_frequency_volumes(ex_tr, freq_lbl) for ex_name , ex_tr, freq_lbl in names_and_graphs ]\n",
    "#harmonic_number_volumes_every_example = [ cast_harmonics(f,v) for f,v in harmonic_volumes_every_example ]\n",
    "harmonic_number_volumes_every_example = [ harmonics_energy_compatibility(ex_tr, freq_lbl) for ex_name , ex_tr, freq_lbl in names_and_graphs ]\n",
    "harmonic_number_volumes_every_example = [ harmonics_energy(ex_tr, freq_lbl) for ex_name , ex_tr, freq_lbl in names_and_graphs ]\n"
   ]
  },
  {
   "cell_type": "code",
   "execution_count": 8,
   "metadata": {
    "collapsed": false
   },
   "outputs": [
    {
     "data": {
      "image/png": "[encoded data removed]",
      "text/plain": [
       "<matplotlib.figure.Figure at 0x7faa03dca978>"
      ]
     },
     "metadata": {},
     "output_type": "display_data"
    }
   ],
   "source": [
    "### PLOTTING calls\n",
    "\n",
    "# get data\n",
    "#names_and_graphs_and_harm = zip(names_and_graphs, harmonic_volumes_every_example)\n",
    "names_and_graphs_and_harm_number = list(zip(names_and_graphs, harmonic_number_volumes_every_example))\n",
    "\n",
    "# plot\n",
    "\n",
    "minfreq_plot = 60\n",
    "maxfreq_plot = 4000\n",
    "\n",
    "#plotharmonics_nc(names_and_graphs_and_harm_number)\n",
    "#plotharmonics(names_and_graphs_and_harm_number)\n",
    "#plotharmonics2(names_and_graphs_and_harm_number)\n",
    "plotspec_and_harmonics(names_and_graphs_and_harm_number)\n",
    "\n",
    "#plt.legend(loc='upper right')\n",
    "#plt.yscale('log')\n",
    "plt.xlim([minfreq_plot,maxfreq_plot])\n",
    "plt.show()\n",
    "\n",
    "#plt.plot([0,1,2])\n",
    "#plt.show()"
   ]
  },
  {
   "cell_type": "code",
   "execution_count": 3,
   "metadata": {
    "collapsed": false,
    "scrolled": true
   },
   "outputs": [
    {
     "name": "stdout",
     "output_type": "stream",
     "text": [
      "Importing signal...\n",
      "Cropping just some seconds...\n",
      "Computing local volume...\n",
      "Finding beats...\n",
      "Cropping...\n",
      "Finished\n"
     ]
    }
   ],
   "source": [
    "from instruments_recognition.signal_processing import *\n",
    "#%pylab inline\n",
    "\n",
    "\n",
    "#datadirectory = \"./samples/flute/philharmonia/\" \n",
    "datadirectory = \"./samples/long/flute/\" \n",
    "\n",
    "limit_examples = 10\n",
    "wav_files = glob.glob(datadirectory + '*.wav')[:limit_examples]\n",
    "\n",
    "\n",
    "long_wav = wav_files[0]\n",
    "\n",
    "\n",
    "print(\"Importing signal...\")\n",
    "audio_long = FSignal.from_wav_file_and_clean(long_wav)\n",
    "print(\"Cropping just some seconds...\")\n",
    "audio = audio_long.from_to_sec(100,1000)\n",
    "print(\"Computing local volume...\")\n",
    "local_volume = audio.local_volume()\n",
    "\n",
    "print(\"Finding beats...\")\n",
    "beats = audio.find_beats(20)\n",
    "beats_beginning = [ b for b,e in beats ]\n",
    "beats_end = [ e for b,e in beats ]\n",
    "\n",
    "#print(\"Plotting...\")\n",
    "#plt.plot(audio.fsignal)\n",
    "#plt.scatter(beats_beginning, [1 for e in beats_beginning])\n",
    "#plt.show()\n",
    "#\n",
    "#plt.plot(local_volume.fsignal)\n",
    "#plt.scatter(beats_beginning, [20 for e in beats_beginning])\n",
    "#plt.scatter(beats_end, [20 for e in beats_end], color='green')\n",
    "#plt.show()\n",
    "\n",
    "print(\"Cropping...\")\n",
    "cropped_audios = audio.auto_crop(20)\n",
    "\n",
    "savedirectory = \"./samples/long/cropped_experiment/\" \n",
    "for crop_au in cropped_audios :\n",
    "    #plt.plot(crop_au.fsignal)\n",
    "    #plt.show()\n",
    "    crop_au.to_wav_file(savedirectory)\n",
    "\n",
    "print(\"Finished\")"
   ]
  },
  {
   "cell_type": "code",
   "execution_count": 4,
   "metadata": {
    "collapsed": false
   },
   "outputs": [
    {
     "data": {
      "text/plain": [
       "array([], dtype=int64)"
      ]
     },
     "execution_count": 4,
     "metadata": {},
     "output_type": "execute_result"
    }
   ],
   "source": [
    "a = np.array([0,1,2])\n",
    "a[1:3] - a[0:2]\n",
    "\n",
    "a[1:1]"
   ]
  },
  {
   "cell_type": "code",
   "execution_count": 1,
   "metadata": {
    "collapsed": false
   },
   "outputs": [
    {
     "ename": "NameError",
     "evalue": "name 'ex_wav' is not defined",
     "output_type": "error",
     "traceback": [
      "\u001b[0;31m---------------------------------------------------------------------------\u001b[0m",
      "\u001b[0;31mNameError\u001b[0m                                 Traceback (most recent call last)",
      "\u001b[0;32m<ipython-input-1-e38200bbf888>\u001b[0m in \u001b[0;36m<module>\u001b[0;34m()\u001b[0m\n\u001b[1;32m      2\u001b[0m \u001b[0;34m\u001b[0m\u001b[0m\n\u001b[1;32m      3\u001b[0m \u001b[0;34m\u001b[0m\u001b[0m\n\u001b[0;32m----> 4\u001b[0;31m \u001b[0mex_floats\u001b[0m \u001b[0;34m=\u001b[0m \u001b[0mlist\u001b[0m\u001b[0;34m(\u001b[0m\u001b[0mmap\u001b[0m\u001b[0;34m(\u001b[0m\u001b[0;32mlambda\u001b[0m \u001b[0me\u001b[0m \u001b[0;34m:\u001b[0m \u001b[0mimport_convert_release\u001b[0m\u001b[0;34m(\u001b[0m\u001b[0me\u001b[0m\u001b[0;34m,\u001b[0m\u001b[0mchannels\u001b[0m\u001b[0;34m)\u001b[0m\u001b[0;34m,\u001b[0m \u001b[0mex_wav\u001b[0m\u001b[0;34m)\u001b[0m\u001b[0;34m)\u001b[0m\u001b[0;34m\u001b[0m\u001b[0m\n\u001b[0m\u001b[1;32m      5\u001b[0m \u001b[0;34m\u001b[0m\u001b[0m\n\u001b[1;32m      6\u001b[0m \u001b[0;34m\u001b[0m\u001b[0m\n",
      "\u001b[0;31mNameError\u001b[0m: name 'ex_wav' is not defined"
     ]
    }
   ],
   "source": [
    "### Constant Q transform\n",
    "\n",
    "\n",
    "ex_floats = list(map(lambda e : import_convert_release(e,channels), ex_wav))\n",
    "\n",
    "\n",
    "# Constant Q Transform\n",
    "def cqt(frame):\n",
    "    \"\"\"\n",
    "    Compute the Constant Q Transform (CQT)\n",
    "    \"\"\"\n",
    "    N = len(frame)\n",
    "    print(\"size of cqt: \" + str(N))\n",
    "    y = array(zeros(N))\n",
    "    a = sqrt(2 / float(N))\n",
    "    for k in range(N):\n",
    "         for n in range(N):\n",
    "            y[k] += frame[n] * cos(pi * (2 * n + 1) * k / float(2 * N))\n",
    "\n",
    "            if k == 0:\n",
    "                y[k] = y[k] * sqrt(1 / float(N))\n",
    "            else:\n",
    "                y[k] = y[k] * a\n",
    "    return y\n",
    "\n",
    "\n",
    "signal = ex_floats[0]\n",
    "\n",
    "fouriel = abs(np.fft.rfft(signal))\n",
    "cqtr = cqt(signal[:10000])\n",
    "\n",
    "\n",
    "plt.plot(cqtr)\n",
    "plt.show()"
   ]
  },
  {
   "cell_type": "code",
   "execution_count": null,
   "metadata": {
    "collapsed": true
   },
   "outputs": [],
   "source": []
  }
 ],
 "metadata": {
  "kernelspec": {
   "display_name": "Python 3",
   "language": "python",
   "name": "python3"
  },
  "language_info": {
   "codemirror_mode": {
    "name": "ipython",
    "version": 3
   },
   "file_extension": ".py",
   "mimetype": "text/x-python",
   "name": "python",
   "nbconvert_exporter": "python",
   "pygments_lexer": "ipython3",
   "version": "3.5.2"
  }
 },
 "nbformat": 4,
 "nbformat_minor": 0
}
