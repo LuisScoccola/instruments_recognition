{
 "cells": [
  {
   "cell_type": "code",
   "execution_count": 293,
   "metadata": {
    "collapsed": false
   },
   "outputs": [],
   "source": [
    "### IMPORTING DATA functions\n",
    "\n",
    "import scipy\n",
    "from scipy import signal\n",
    "from scipy.io import wavfile\n",
    "import numpy as np\n",
    "import matplotlib.pyplot as plt\n",
    "import glob\n",
    "\n",
    "\n",
    "\n",
    "# samplerate of the data\n",
    "samplerate = 44100.\n",
    "# bit depth of the data\n",
    "bitdepth = np.int16\n",
    "\n",
    "# input: a .wav file \n",
    "# output: a vector of integers (one float per sample)\n",
    "def import16monowav(wav_file) :\n",
    "    samplerate, data = wavfile.read(wav_file)\n",
    "    #return np.fromfile(open(wav_file),bitdepth)[24:]\n",
    "    return data\n",
    "\n",
    "def import16stereo1wav(wav_file) :\n",
    "    samplerate, data = wavfile.read(wav_file)\n",
    "    #return np.fromfile(open(wav_file),bitdepth)[24:]\n",
    "    res = [n for n,m in data]\n",
    "    return res\n",
    "\n",
    "# normalize to a float in [-1,1]\n",
    "def normalize16bits(vector) :\n",
    "    return [ sample/2**16. for sample in vector ]\n",
    "\n",
    "# kills first nad last samples under some threshold\n",
    "def killsilence_wav(wav_16bits) :\n",
    "    # TODO: veeery arbitrary\n",
    "    threshold = 30\n",
    "    first = 0\n",
    "    last = len(wav_16bits)-1\n",
    "    while (abs(wav_16bits[first]) < threshold) :\n",
    "        first += 1\n",
    "    while (abs(wav_16bits[last]) < threshold) :\n",
    "        last -= 1\n",
    "    if first >= last :\n",
    "        raise ValueError('Empty sample!')\n",
    "    return wav_16bits[first:last]\n",
    "\n",
    "# convert to float\n",
    "# TODO: the silence should be removed later?\n",
    "def convert_to_float(ex) :\n",
    "    if channels == 1 :\n",
    "        return normalize16bits(killsilence_wav(import16monowav(ex)))\n",
    "    else :\n",
    "        return normalize16bits(killsilence_wav(import16stereo1wav(ex)))\n",
    "        \n",
    "    \n",
    "# import wav, convert to float, and fourier transform\n",
    "def import_convert_transform(ex) :\n",
    "    # import wav and convert to float\n",
    "    ex_float = convert_to_float(ex)\n",
    "    return transform_floats(ex_float)\n",
    "\n",
    "\n",
    "\n",
    "#parameter for tukey window\n",
    "alpha_tukey = 0.05\n",
    "\n",
    "# given a signal of floats, apply window and transform\n",
    "def transform_floats(ex_float) :\n",
    "    # apply tukey window\n",
    "    ex_windowed = signal.tukey(len(ex_float),alpha=0.05) * ex_float  \n",
    "    # transform to frequency domain (since this is a real signal the transformed vector has half of the length)\n",
    "    ex_transformed_complex = np.fft.rfft(ex_windowed)\n",
    "    # take absolute values\n",
    "    ex_transformed = map(abs,ex_transformed_complex)\n",
    "    # compute frequencies for the xlabel\n",
    "    freq_label = np.fft.rfftfreq(len(ex_float),1/samplerate)\n",
    "    \n",
    "    plt.plot(ex_float)\n",
    "    plt.show()\n",
    "    return ex_float, ex_transformed, freq_label\n",
    "    #freq_label = [ np.arange(len(ex))/(len(ex)*2/samplerate) for ex in ex_transformed ]"
   ]
  },
  {
   "cell_type": "code",
   "execution_count": 301,
   "metadata": {
    "collapsed": false
   },
   "outputs": [],
   "source": [
    "### FINIDING HARMONICS functions\n",
    "\n",
    "\n",
    "# TODO: this should not be sooo hardcoded\n",
    "peak_width_min = 10\n",
    "peak_width_max = 60\n",
    "\n",
    "# a quarter of tone\n",
    "sm_tone = 2**(1/12.)\n",
    "\n",
    "\n",
    "# range of harmonics of interest\n",
    "# TODO: hardcode this better\n",
    "relevant_range_min = 100\n",
    "relevant_range_max = 15000\n",
    "# how many harmonics we want to take into account\n",
    "num_harmonics = 7\n",
    "\n",
    "\n",
    "# given a signal return a list of the positions of the peaks\n",
    "def find_peaks_in_range(ex, frq_lbl) :\n",
    "    # find peaks (this is the position in the array)\n",
    "    peaks = signal.find_peaks_cwt(ex, np.arange(peak_width_min,peak_width_max))\n",
    "    peaks_in_range = filter(lambda n : frq_lbl[n]>=relevant_range_min and frq_lbl[n]<= relevant_range_max, peaks)\n",
    "    return peaks_in_range\n",
    "\n",
    "\n",
    "def find_tonic(amplitudes) :\n",
    "    maximum = max(amplitudes)\n",
    "    arbitrary = 2.\n",
    "    first = 0\n",
    "    while (amplitudes[first]<maximum/arbitrary) :\n",
    "        first += 1\n",
    "    if first >= len(amplitudes) :\n",
    "        raise ValueError('No tonic!')\n",
    "    return first\n",
    "\n",
    "\n",
    "# TODO: should be called harmonics_amplitudes\n",
    "def harmonics_frequency_volumes(ex, frq_lbl) :\n",
    "    # filter peaks in range\n",
    "    peaks_position = find_peaks_in_range(ex, frq_lbl)\n",
    "    \n",
    "    # compute energy of peaks (root mean square):\n",
    "    peaks_volume_tmp = [ get_rms_peak_log(ex,peak) for peak in peaks_position ]\n",
    "    \n",
    "    # find tonic\n",
    "    tonic_pos = find_tonic(peaks_volume_tmp)\n",
    "    #take only num_harmonics peaks\n",
    "    peaks_volume = peaks_volume_tmp[tonic_pos:tonic_pos+num_harmonics]\n",
    "    # normalize\n",
    "    peaks_volume_nor = peaks_volume/rms(peaks_volume)\n",
    "        ## put volumes in range\n",
    "        ##peaks_volume_in_range = [ v-min_volume if v>min_volume else 0 for v in peaks_volume ]\n",
    "    #the frequency of the peaks\n",
    "    peaks_frequency = [ frq_lbl[n] for n in peaks_position[tonic_pos:tonic_pos+num_harmonics] ]\n",
    "        # calculate volume of peaks relative to tonic\n",
    "        #tonic_volume = peaks_volume[0]\n",
    "        #peaks_volume_nor = [ harmonic_volume/tonic_volume for harmonic_volume in peaks_volume ]\n",
    "    return peaks_frequency, peaks_volume_nor\n",
    "\n",
    "\n",
    "# TODO: see if this parameter is ok\n",
    "tolerance_har = 0.2\n",
    "\n",
    "\n",
    "def cast_harmonics(peaks_frequency, peaks_volume) :\n",
    "    har_f_har_v = zip(peaks_frequency, peaks_volume)\n",
    "    tonic_freq = har_f_har_v[0][0]\n",
    "    peaks_volume_res = np.zeros(num_harmonics)\n",
    "    peaks_frequency_new = [ tonic_freq * n for n in range(1,num_harmonics+1)]\n",
    "    \n",
    "    for freq, vol in har_f_har_v :\n",
    "        harm_num = int(round(freq/tonic_freq))\n",
    "        if abs(freq/tonic_freq - harm_num) > tolerance_har or harm_num > num_harmonics :\n",
    "            print \"WARNING: strange harmonic: \" + str(freq/tonic_freq)\n",
    "            # raise ValueError('Strange harmonic!')\n",
    "        else :\n",
    "#            print harm_num\n",
    "            peaks_volume_res[harm_num-1] = vol\n",
    "            peaks_frequency_new[harm_num-1] = freq\n",
    "        \n",
    "    return peaks_frequency_new, peaks_volume_res\n",
    "            \n",
    "        \n",
    "\n",
    "def get_average_volume(ex, peak) :\n",
    "    # TODO: this 10 is pretty arbitrary\n",
    "    windowinitial = int(peak-peak_width_max/2) \n",
    "    windowfinal = int(peak+peak_width_max/2)\n",
    "    return np.average(ex[windowinitial:windowfinal])\n",
    " \n",
    "# average over a tone centered in the note\n",
    "def get_average_volume_log(ex, peak) :\n",
    "    windowinitial = int(peak/sm_tone) \n",
    "    windowfinal = int(peak*sm_tone)\n",
    "    return np.average(ex[windowinitial:windowfinal])\n",
    "\n",
    "# rms over a neigborhood of the peak\n",
    "def get_rms_peak(ex, peak) :\n",
    "    # TODO: this 10 is pretty arbitrary\n",
    "    windowinitial = int(peak-peak_width_max/2) \n",
    "    windowfinal = int(peak+peak_width_max/2)\n",
    "    return rms(ex[windowinitial:windowfinal])\n",
    " \n",
    "# rms over a tone centered in the note\n",
    "def get_rms_peak_log(ex, peak) :\n",
    "    windowinitial = int(peak/sm_tone) \n",
    "    windowfinal = int(peak*sm_tone)\n",
    "    return rms(ex[windowinitial:windowfinal])\n",
    "  \n",
    "# with a change of parameter\n",
    "# TODO: do the integral with np.average\n",
    "def get_average_volume_log_log(ex, peak) :\n",
    "    # v_n(x) = v_f(2^x),  thus \\int v_n(x) = \\int v_f(2^x) = \\int v_f(y)/y\n",
    "    windowinitial = int(peak/sm_tone) \n",
    "    windowfinal = int(peak*sm_tone)\n",
    "    lenintegral = windowfinal - windowinitial\n",
    "    weights = [ 1/float(y) for y in range(windowinitial,windowfinal) ]\n",
    "    totalweights = sum(weights)\n",
    "    averagevol = sum([v*w for v,w in zip(ex[windowinitial:windowfinal], weights)])/totalweights\n",
    "    return averagevol\n",
    "\n",
    "\n",
    "def rms(vec) :\n",
    "    return np.sqrt(np.average(np.power(vec,2)))"
   ]
  },
  {
   "cell_type": "code",
   "execution_count": 291,
   "metadata": {
    "collapsed": false
   },
   "outputs": [],
   "source": [
    "### PLOTTING functions\n",
    "\n",
    "\n",
    "\n",
    "# plot (1/4 of the) spectrum \n",
    "def plotspec() :\n",
    "    color = iter(plt.cm.rainbow(np.linspace(0,1,len(names_and_graphs_and_harm_number))))\n",
    "    for (name, ex, freqs), (x,y) in names_and_graphs_and_harm_number :\n",
    "        c = next(color)\n",
    "        plt.plot(freqs, ex, label=name,c=c)\n",
    "    \n",
    "# logarithmic scale for x axis [log(frequency) = note]\n",
    "def plotspec_log() :\n",
    "    color = iter(plt.cm.rainbow(np.linspace(0,1,len(names_and_graphs_and_harm_number))))\n",
    "    for (name, ex, freqs), (x,y) in names_and_graphs_and_harm_number :\n",
    "        c = next(color)\n",
    "        plt.plot(np.log2(freqs), ex, label=name,c=c)\n",
    "    \n",
    "\n",
    "# logarithmic scale for both axes [log(frequency) = note, log(amplitude) = volume]\n",
    "def plotspec_loglog() :\n",
    "    color = iter(plt.cm.rainbow(np.linspace(0,1,len(names_and_graphs_and_harm_number))))\n",
    "    for (name, ex, freqs), (x,y) in names_and_graphs_and_harm_number :\n",
    "        ex = np.log2(ex)\n",
    "        c = next(color)\n",
    "        plt.plot(np.log2(freqs), ex, label=name,c=c)\n",
    " \n",
    "    \n",
    "def plotspec_normalized() :\n",
    "    color = iter(plt.cm.rainbow(np.linspace(0,1,len(names_and_graphs_and_harm_number))))\n",
    "    for (name, ex, freqs), (x,y) in names_and_graphs_and_harm_number :\n",
    "        c = next(color)\n",
    "        #normalize\n",
    "        ex /= np.max(np.abs(ex),axis=0)\n",
    "        plt.plot(freqs, ex, label=name,c=c)\n",
    "\n",
    "def plotspec_and_harmonics() :\n",
    "    color = iter(plt.cm.rainbow(np.linspace(0,1,len(names_and_graphs_and_harm_number))))\n",
    "    for (name, ex, freqs), (x,y) in names_and_graphs_and_harm_number :\n",
    "        c = next(color)\n",
    "        #normalize\n",
    "        ex /= rms(ex)\n",
    "        plt.plot(freqs, ex, label=name,c=c)\n",
    "        plt.scatter(x,y , label=name,c=c)\n",
    "#        plt.ylim([0,1])\n",
    "\n",
    "    \n",
    "def plotspec_and_harmonics_log() :\n",
    "    color = iter(plt.cm.rainbow(np.linspace(0,1,len(names_and_graphs_and_harm_number))))\n",
    "    for (name, ex, freqs), (x,y) in names_and_graphs_and_harm_number :\n",
    "        c = next(color)\n",
    "        # in decibels\n",
    "        ex = np.log2(ex)\n",
    "        # normalize\n",
    "        ex /= np.max(np.abs(ex),axis=0)\n",
    "        plt.plot(freqs, ex, label=name,c=c)\n",
    "        plt.scatter(x, y, label=name,c=c)\n",
    "#        plt.ylim([0,1])\n",
    "    \n",
    "# no color version\n",
    "def plotharmonics_nc() :\n",
    "    for (name, ex, freqs), (x,y) in names_and_graphs_and_harm_number :\n",
    "        xx = range(len(y))\n",
    "        plt.scatter(xx, y,label=name)\n",
    "    \n",
    "def plotharmonics() :\n",
    "    color = iter(plt.cm.rainbow(np.linspace(0,1,len(names_and_graphs_and_harm_number))))\n",
    "    for (name, ex, freqs), (x,y) in names_and_graphs_and_harm_number :\n",
    "        c = next(color)\n",
    "        xx = range(len(y))\n",
    "        plt.scatter(xx, y,label=name,c=c)\n",
    "    \n",
    "\n",
    "def plotharmonics2() :\n",
    "    color = iter(plt.cm.rainbow(np.linspace(0,1,len(names_and_graphs_and_harm_number))))\n",
    "    for (name, ex, freqs), (x,y) in names_and_graphs_and_harm_number :\n",
    "        c = next(color)\n",
    "        plt.plot(y,label=name,c=c)"
   ]
  },
  {
   "cell_type": "code",
   "execution_count": 253,
   "metadata": {
    "collapsed": false
   },
   "outputs": [],
   "source": [
    "### IMPORTING SYNTHETIC SINUSOIDS functions and call\n",
    "\n",
    "Ts = 1.0/samplerate\n",
    "\n",
    "def gimme_sinusoid(freq) :\n",
    "    t = np.arange(0,1,Ts)\n",
    "    return np.sin(2*np.pi * freq * t)\n",
    "    \n",
    "def gimme_sinusoids(freq,harmonics_amp) :\n",
    "    n = 2\n",
    "    res = gimme_sinusoid(freq)\n",
    "    for amp in harmonics_amp : \n",
    "        res += amp * gimme_sinusoid(n*freq)\n",
    "        n += 1\n",
    "    return res\n",
    "\n",
    "def gimme_sinusoids_noise(freq,harmonics_amp) :\n",
    "    signal = gimme_sinusoids(freq,harmonics_amp)\n",
    "    return signal + np.random.normal(0,.5,len(signal))\n",
    "\n",
    "        \n",
    "algunos = [gimme_sinusoids_noise(500,[.8,.4,.8,.8,.6,.5,.1,.1]),\n",
    "          gimme_sinusoids(400,[.5,.3,.4,.5,.6,.7,.1,.1])]\n",
    "namos = ['500','400']\n",
    "\n",
    "# more global variables\n",
    "ex_floats, ex_transformed, freq_label = zip(*map(transform_floats, algunos))\n",
    "names_and_graphs = zip(namos, ex_transformed, freq_label)\n",
    "\n",
    "#plt.plot(ex_transformed[0])\n",
    "#plt.show()\n"
   ]
  },
  {
   "cell_type": "code",
   "execution_count": 294,
   "metadata": {
    "collapsed": false
   },
   "outputs": [],
   "source": [
    "### IMPORTING DATA calls\n",
    "\n",
    "\n",
    "# global variables\n",
    "# directory with data\n",
    "datadirectory = \"./sonatina_symphonic_orchestra/Samples/Flute/\"\n",
    "\n",
    "# maximum of examples\n",
    "max_ex = 1\n",
    "\n",
    "# channels\n",
    "channels = 2\n",
    "\n",
    "# file names\n",
    "ex_wav = glob.glob(datadirectory + '*.wav')[:max_ex]\n",
    "\n",
    "# TODO: a human-readble version of ex_wav\n",
    "# ex_names = \n",
    "\n",
    "\n",
    "\n",
    "# more global variables\n",
    "ex_floats, ex_transformed, freq_label = zip(*map(import_convert_transform, ex_wav))\n",
    "names_and_graphs = zip(ex_wav, ex_transformed, freq_label)\n"
   ]
  },
  {
   "cell_type": "code",
   "execution_count": 302,
   "metadata": {
    "collapsed": false
   },
   "outputs": [
    {
     "name": "stdout",
     "output_type": "stream",
     "text": [
      "WARNING: strange harmonic: 1.20046296296\n",
      "WARNING: strange harmonic: 1.22916666667\n",
      "WARNING: strange harmonic: 1.25\n",
      "WARNING: strange harmonic: 1.3662037037\n"
     ]
    }
   ],
   "source": [
    "### FINDING HARMONICS calls\n",
    "\n",
    "harmonic_volumes_every_example = [ harmonics_frequency_volumes(ex_tr, freq_lbl) for ex_name , ex_tr, freq_lbl in names_and_graphs ]\n",
    "harmonic_number_volumes_every_example = [ cast_harmonics(f,v) for f,v in harmonic_volumes_every_example ]\n"
   ]
  },
  {
   "cell_type": "code",
   "execution_count": 303,
   "metadata": {
    "collapsed": false
   },
   "outputs": [],
   "source": [
    "### PLOTTING calls\n",
    "\n",
    "# get data\n",
    "names_and_graphs_and_harm = zip(names_and_graphs, harmonic_volumes_every_example)\n",
    "names_and_graphs_and_harm_number = zip(names_and_graphs, harmonic_number_volumes_every_example)\n",
    "\n",
    "# plot\n",
    "\n",
    "#plotharmonics_nc()\n",
    "#plotharmonics()\n",
    "#plotharmonics2()\n",
    "plotspec_and_harmonics()\n",
    "\n",
    "#plt.legend(loc='upper right')\n",
    "#plt.yscale('log')\n",
    "#plt.xlim([20,6000])\n",
    "plt.show()"
   ]
  },
  {
   "cell_type": "code",
   "execution_count": 140,
   "metadata": {
    "collapsed": false,
    "scrolled": true
   },
   "outputs": [
    {
     "name": "stdout",
     "output_type": "stream",
     "text": [
      "0.0584473370517 [0.001718213058419244, 0.0017152658662092624, 0.0017123287671232876, 0.0017094017094017094, 0.0017064846416382253, 0.0017035775127768314, 0.0017006802721088435, 0.001697792869269949, 0.001694915254237288, 0.001692047377326565, 0.0016891891891891893, 0.0016863406408094434, 0.0016835016835016834, 0.0016806722689075631, 0.0016778523489932886, 0.0016750418760469012, 0.0016722408026755853, 0.001669449081803005, 0.0016666666666666668, 0.0016638935108153079, 0.0016611295681063123, 0.001658374792703151, 0.0016556291390728477, 0.001652892561983471, 0.0016501650165016502, 0.0016474464579901153, 0.001644736842105263, 0.0016420361247947454, 0.001639344262295082, 0.0016366612111292963, 0.0016339869281045752, 0.0016313213703099511, 0.0016286644951140066, 0.0016260162601626016, 0.0016233766233766235]\n",
      "582 617\n"
     ]
    },
    {
     "data": {
      "text/plain": [
       "0.31333697161760382"
      ]
     },
     "execution_count": 140,
     "metadata": {},
     "output_type": "execute_result"
    }
   ],
   "source": [
    "#harmonics_volumes(ex_transformed[1],freq_label[1])\n",
    "get_average_volume(ex_transformed[0],600)\n"
   ]
  },
  {
   "cell_type": "code",
   "execution_count": 295,
   "metadata": {
    "collapsed": false
   },
   "outputs": [
    {
     "data": {
      "text/plain": [
       "['./sonatina_symphonic_orchestra/Samples/Flute/flute-f#3.wav']"
      ]
     },
     "execution_count": 295,
     "metadata": {},
     "output_type": "execute_result"
    }
   ],
   "source": [
    "ex_wav\n",
    "#len(names_and_graphs[0])"
   ]
  },
  {
   "cell_type": "code",
   "execution_count": 110,
   "metadata": {
    "collapsed": false
   },
   "outputs": [],
   "source": [
    "plt.plot(names_and_graphs[0][1])\n",
    "plt.show()"
   ]
  },
  {
   "cell_type": "code",
   "execution_count": 28,
   "metadata": {
    "collapsed": false
   },
   "outputs": [],
   "source": [
    "#samplerate, data = wavfile.read(ex_wav[2])\n",
    "\n",
    "\n",
    "def killsilence(wav_16bits) :\n",
    "\n",
    "    threshold = 30\n",
    "    \n",
    "    first = 0\n",
    "    last = len(data)-1\n",
    "    \n",
    "    while (wav_16bits[first] < threshold) :\n",
    "        first += 1\n",
    "        \n",
    "    while (wav_16bits[last] < threshold) :\n",
    "        last -= 1\n",
    "\n",
    "ex_float = normalize16bits(killsilence_wav(import16monowav(ex_wav[0])))\n",
    "# apply tukey window\n",
    "ex_windowed = signal.tukey(len(ex_float),alpha=0.05) * ex_float \n",
    "        \n",
    "plt.plot(ex_windowed)\n",
    "plt.show()\n"
   ]
  },
  {
   "cell_type": "code",
   "execution_count": 85,
   "metadata": {
    "collapsed": false,
    "scrolled": true
   },
   "outputs": [
    {
     "data": {
      "text/plain": [
       "[1, 2]"
      ]
     },
     "execution_count": 85,
     "metadata": {},
     "output_type": "execute_result"
    }
   ],
   "source": [
    "range(1,2+1)"
   ]
  },
  {
   "cell_type": "code",
   "execution_count": null,
   "metadata": {
    "collapsed": true
   },
   "outputs": [],
   "source": [
    "#smooth vector, but the peak finder already does this\n",
    "\n",
    "def smooth(y, box_pts):\n",
    "    box = np.ones(box_pts)/box_pts\n",
    "    y_smooth = np.convolve(y, box, mode='same')\n",
    "    return y_smooth\n",
    "\n",
    "average_factor = 30\n",
    "\n",
    "ex_smoothened = [ smooth(ex, average_factor) for ex in ex_transformed ]\n"
   ]
  },
  {
   "cell_type": "code",
   "execution_count": null,
   "metadata": {
    "collapsed": true,
    "scrolled": true
   },
   "outputs": [],
   "source": [
    "#TODOs:\n",
    "# - there is a problem with the last harmonic, it is always 0"
   ]
  },
  {
   "cell_type": "code",
   "execution_count": null,
   "metadata": {
    "collapsed": true
   },
   "outputs": [],
   "source": []
  },
  {
   "cell_type": "code",
   "execution_count": null,
   "metadata": {
    "collapsed": true
   },
   "outputs": [],
   "source": []
  }
 ],
 "metadata": {
  "kernelspec": {
   "display_name": "Python 2",
   "language": "python2",
   "name": "python2"
  },
  "language_info": {
   "codemirror_mode": {
    "name": "ipython",
    "version": 2
   },
   "file_extension": ".py",
   "mimetype": "text/x-python",
   "name": "python",
   "nbconvert_exporter": "python",
   "pygments_lexer": "ipython2",
   "version": "2.7.12"
  }
 },
 "nbformat": 4,
 "nbformat_minor": 0
}
