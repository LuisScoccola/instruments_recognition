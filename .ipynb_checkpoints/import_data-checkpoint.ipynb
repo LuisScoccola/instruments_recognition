{
 "cells": [
  {
   "cell_type": "code",
   "execution_count": 52,
   "metadata": {
    "collapsed": false
   },
   "outputs": [],
   "source": [
    "import scipy\n",
    "import numpy as np\n",
    "import matplotlib.pyplot as plt\n",
    "\n",
    "\n",
    "\n",
    "\n",
    "datafolder = \"./oboe/philharmonia/fewer/\"\n",
    "\n",
    "ex_wav = glob.iglob(datafolder + '*.wav')\n",
    "\n",
    "\n",
    "\n",
    "def import16monowav(wav_file):\n",
    "    return np.fromfile(open(wav_file),np.int16)[24:]\n",
    "\n",
    "\n",
    "\n",
    "samplerate = 441000.\n",
    "\n",
    "\n",
    "ex_floats = [ map(float,import16monowav(ex)) for ex in ex_wav ]\n",
    "ex_transformed_complex = [ np.fft.rfft(ex) for ex in ex_floats ]\n",
    "ex_transformed = [ map(abs,ex) for ex in ex_transformed_complex ]\n",
    "\n",
    "\n",
    "def smooth(y, box_pts):\n",
    "    box = np.ones(box_pts)/box_pts\n",
    "    y_smooth = np.convolve(y, box, mode='same')\n",
    "    return y_smooth\n",
    "\n",
    "average_factor = 30\n",
    "\n",
    "ex_smoothened = [ smooth(ex, average_factor) for ex in ex_transformed ]\n",
    "\n",
    "\n",
    "\n"
   ]
  },
  {
   "cell_type": "code",
   "execution_count": 54,
   "metadata": {
    "collapsed": false
   },
   "outputs": [],
   "source": [
    "plt.plot(ex_smoothened[2])\n",
    "plt.show()\n"
   ]
  },
  {
   "cell_type": "code",
   "execution_count": 59,
   "metadata": {
    "collapsed": false
   },
   "outputs": [
    {
     "name": "stdout",
     "output_type": "stream",
     "text": [
      "<generator object iglob at 0x7fffb72aa690>\n"
     ]
    }
   ],
   "source": [
    "print ex_wav"
   ]
  },
  {
   "cell_type": "code",
   "execution_count": null,
   "metadata": {
    "collapsed": true
   },
   "outputs": [],
   "source": []
  }
 ],
 "metadata": {
  "kernelspec": {
   "display_name": "Python 2",
   "language": "python2",
   "name": "python2"
  },
  "language_info": {
   "codemirror_mode": {
    "name": "ipython",
    "version": 2
   },
   "file_extension": ".py",
   "mimetype": "text/x-python",
   "name": "python",
   "nbconvert_exporter": "python",
   "pygments_lexer": "ipython2",
   "version": "2.7.12"
  }
 },
 "nbformat": 4,
 "nbformat_minor": 0
}
